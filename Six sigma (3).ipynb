{
 "cells": [
  {
   "cell_type": "markdown",
   "metadata": {},
   "source": [
    "# Primeiramente é necessário instalar os pacotes que iremos utilizar"
   ]
  },
  {
   "cell_type": "code",
   "execution_count": 71,
   "metadata": {},
   "outputs": [
    {
     "name": "stderr",
     "output_type": "stream",
     "text": [
      "Installing package into 'C:/Users/pedro/Documents/R/win-library/3.4'\n",
      "(as 'lib' is unspecified)\n"
     ]
    },
    {
     "name": "stdout",
     "output_type": "stream",
     "text": [
      "package 'SixSigma' successfully unpacked and MD5 sums checked\n",
      "\n",
      "The downloaded binary packages are in\n",
      "\tC:\\Users\\pedro\\AppData\\Local\\Temp\\RtmpKQtGDi\\downloaded_packages\n"
     ]
    },
    {
     "name": "stderr",
     "output_type": "stream",
     "text": [
      "Installing package into 'C:/Users/pedro/Documents/R/win-library/3.4'\n",
      "(as 'lib' is unspecified)\n"
     ]
    },
    {
     "name": "stdout",
     "output_type": "stream",
     "text": [
      "package 'qcc' successfully unpacked and MD5 sums checked\n",
      "\n",
      "The downloaded binary packages are in\n",
      "\tC:\\Users\\pedro\\AppData\\Local\\Temp\\RtmpKQtGDi\\downloaded_packages\n"
     ]
    },
    {
     "name": "stderr",
     "output_type": "stream",
     "text": [
      "Installing package into 'C:/Users/pedro/Documents/R/win-library/3.4'\n",
      "(as 'lib' is unspecified)\n"
     ]
    },
    {
     "name": "stdout",
     "output_type": "stream",
     "text": [
      "package 'nortest' successfully unpacked and MD5 sums checked\n",
      "\n",
      "The downloaded binary packages are in\n",
      "\tC:\\Users\\pedro\\AppData\\Local\\Temp\\RtmpKQtGDi\\downloaded_packages\n"
     ]
    },
    {
     "name": "stderr",
     "output_type": "stream",
     "text": [
      "Installing package into 'C:/Users/pedro/Documents/R/win-library/3.4'\n",
      "(as 'lib' is unspecified)\n",
      "Warning message:\n",
      "\"package 'dplyr' is in use and will not be installed\"Installing package into 'C:/Users/pedro/Documents/R/win-library/3.4'\n",
      "(as 'lib' is unspecified)\n"
     ]
    },
    {
     "name": "stdout",
     "output_type": "stream",
     "text": [
      "package 'devtools' successfully unpacked and MD5 sums checked\n",
      "\n",
      "The downloaded binary packages are in\n",
      "\tC:\\Users\\pedro\\AppData\\Local\\Temp\\RtmpKQtGDi\\downloaded_packages\n"
     ]
    },
    {
     "name": "stderr",
     "output_type": "stream",
     "text": [
      "Installing package into 'C:/Users/pedro/Documents/R/win-library/3.4'\n",
      "(as 'lib' is unspecified)\n",
      "Warning message:\n",
      "\"package 'ggpubr' is in use and will not be installed\""
     ]
    }
   ],
   "source": [
    "install.packages(\"SixSigma\", dependencies=TRUE) \n",
    "install.packages(\"qcc\", dependencies=TRUE) \n",
    "install.packages(\"nortest\", dependencies=TRUE) \n",
    "install.packages(\"dplyr\")\n",
    "install.packages(\"devtools\")\n",
    "install.packages(\"ggpubr\")\n"
   ]
  },
  {
   "cell_type": "code",
   "execution_count": 72,
   "metadata": {},
   "outputs": [
    {
     "name": "stderr",
     "output_type": "stream",
     "text": [
      "Installing package into 'C:/Users/pedro/Documents/R/win-library/3.4'\n",
      "(as 'lib' is unspecified)\n"
     ]
    },
    {
     "name": "stdout",
     "output_type": "stream",
     "text": [
      "package 'nortest' successfully unpacked and MD5 sums checked\n",
      "\n",
      "The downloaded binary packages are in\n",
      "\tC:\\Users\\pedro\\AppData\\Local\\Temp\\RtmpKQtGDi\\downloaded_packages\n"
     ]
    }
   ],
   "source": [
    "install.packages(\"nortest\")"
   ]
  },
  {
   "cell_type": "markdown",
   "metadata": {},
   "source": [
    "# Em seguida precisamos 'chamar' as bibliotecas"
   ]
  },
  {
   "cell_type": "code",
   "execution_count": 11,
   "metadata": {},
   "outputs": [],
   "source": [
    "library(\"SixSigma\") \n",
    "library(\"dplyr\")\n",
    "\n",
    "#Import process measurements from a file\n",
    "#Data are in 99 samples of 100 measurements each\n",
    "library(\"qcc\")\n",
    "library(\"nortest\")"
   ]
  },
  {
   "cell_type": "markdown",
   "metadata": {},
   "source": [
    "# Vamos começar trabalhando com o arquivo 1-Estatística descritiva.csv"
   ]
  },
  {
   "cell_type": "markdown",
   "metadata": {},
   "source": [
    "# Perceba que caso o arquivo não esteja na mesma pasta do arquivo '.r' você precisa colocar o endereço completo, ex:\n",
    "\n",
    "x<-read.csv(\"C:\\\\Users\\\\pedro\\\\Desktop\\\\CEFET\\\\Disciplinas CEFET\\\\Lean Seis Sigma\\\\AulaEstDescritiva.csv\", header = TRUE, #sep = \";\")"
   ]
  },
  {
   "cell_type": "code",
   "execution_count": 16,
   "metadata": {
    "collapsed": true
   },
   "outputs": [
    {
     "name": "stdout",
     "output_type": "stream",
     "text": [
      "    Raio..cm.    Status                Data\n",
      "1       28.64    Aceito  13/5/2018 00:00:00\n",
      "2       28.99    Aceito  14/8/2018 00:00:00\n",
      "3       29.78    Aceito  13/9/2018 00:00:00\n",
      "4       30.47 Rejeitado 10/12/2018 00:00:00\n",
      "5       33.78 Rejeitado   1/7/2018 00:00:00\n",
      "6       30.63 Rejeitado 12/10/2018 00:00:00\n",
      "7       32.81 Rejeitado  7/11/2018 00:00:00\n",
      "8       27.99 Rejeitado  12/1/2018 00:00:00\n",
      "9       32.08    Aceito  13/5/2018 00:00:00\n",
      "10      31.54    Aceito  14/8/2018 00:00:00\n",
      "11      29.08 Rejeitado  13/9/2018 00:00:00\n",
      "12      26.85 Rejeitado 10/12/2018 00:00:00\n",
      "13      32.65 Rejeitado   1/7/2018 00:00:00\n",
      "14      26.50    Aceito 12/10/2018 00:00:00\n",
      "15      28.67    Aceito  7/11/2018 00:00:00\n",
      "16      28.52 Rejeitado  12/1/2018 00:00:00\n",
      "17      26.71 Rejeitado  13/5/2018 00:00:00\n",
      "18      36.13 Rejeitado  14/8/2018 00:00:00\n",
      "19      35.12    Aceito  13/9/2018 00:00:00\n",
      "20      28.16    Aceito 10/12/2018 00:00:00\n",
      "21      28.69    Aceito   1/7/2018 00:00:00\n",
      "22      32.47 Rejeitado 12/10/2018 00:00:00\n",
      "23      30.70 Rejeitado  7/11/2018 00:00:00\n",
      "24      31.56 Rejeitado  12/1/2018 00:00:00\n",
      "25      28.22 Rejeitado  13/5/2018 00:00:00\n",
      "26      28.08 Rejeitado  14/8/2018 00:00:00\n",
      "27      29.98    Aceito  13/9/2018 00:00:00\n",
      "28      29.58    Aceito 10/12/2018 00:00:00\n",
      "29      30.37 Rejeitado   1/7/2018 00:00:00\n",
      "30      31.60 Rejeitado 12/10/2018 00:00:00\n",
      "31      27.72 Rejeitado  7/11/2018 00:00:00\n",
      "32      28.03    Aceito  12/1/2018 00:00:00\n",
      "33      31.95    Aceito  13/5/2018 00:00:00\n",
      "34      27.92 Rejeitado  14/8/2018 00:00:00\n",
      "35      30.95 Rejeitado  13/9/2018 00:00:00\n",
      "36      29.59 Rejeitado 10/12/2018 00:00:00\n",
      "37      30.22    Aceito   1/7/2018 00:00:00\n",
      "38      28.78    Aceito 12/10/2018 00:00:00\n",
      "39      30.51    Aceito  7/11/2018 00:00:00\n",
      "40      28.88 Rejeitado  12/1/2018 00:00:00\n",
      "41      30.08 Rejeitado  13/5/2018 00:00:00\n",
      "42      27.17 Rejeitado  14/8/2018 00:00:00\n",
      "43      31.24 Rejeitado  13/9/2018 00:00:00\n",
      "44      28.96 Rejeitado 10/12/2018 00:00:00\n",
      "45      28.30    Aceito   1/7/2018 00:00:00\n",
      "46      27.91    Aceito 12/10/2018 00:00:00\n",
      "47      29.68 Rejeitado  7/11/2018 00:00:00\n",
      "48      34.53 Rejeitado  12/1/2018 00:00:00\n",
      "49      29.72 Rejeitado  13/5/2018 00:00:00\n",
      "50      26.57    Aceito  14/8/2018 00:00:00\n",
      "51      28.32    Aceito  13/9/2018 00:00:00\n",
      "52      27.04 Rejeitado 10/12/2018 00:00:00\n",
      "53      30.50 Rejeitado   1/7/2018 00:00:00\n",
      "54      27.74 Rejeitado 12/10/2018 00:00:00\n",
      "55      30.44    Aceito  7/11/2018 00:00:00\n",
      "56      28.09    Aceito  12/1/2018 00:00:00\n",
      "57      30.24    Aceito  13/5/2018 00:00:00\n",
      "58      26.42 Rejeitado  14/8/2018 00:00:00\n",
      "59      30.76 Rejeitado  13/9/2018 00:00:00\n",
      "60      30.93 Rejeitado 10/12/2018 00:00:00\n",
      "61      27.63 Rejeitado   1/7/2018 00:00:00\n",
      "62      26.24 Rejeitado 12/10/2018 00:00:00\n",
      "63      30.92    Aceito  7/11/2018 00:00:00\n",
      "64      26.65    Aceito  12/1/2018 00:00:00\n",
      "65      33.89 Rejeitado  13/5/2018 00:00:00\n",
      "66      30.15 Rejeitado  14/8/2018 00:00:00\n",
      "67      28.01 Rejeitado  13/9/2018 00:00:00\n",
      "68      32.03    Aceito 10/12/2018 00:00:00\n",
      "69      27.32    Aceito   1/7/2018 00:00:00\n",
      "70      32.66 Rejeitado 12/10/2018 00:00:00\n",
      "71      33.62 Rejeitado  7/11/2018 00:00:00\n",
      "72      31.19 Rejeitado  12/1/2018 00:00:00\n",
      "73      30.03    Aceito  13/5/2018 00:00:00\n",
      "74      30.00    Aceito  14/8/2018 00:00:00\n",
      "75      28.37    Aceito  13/9/2018 00:00:00\n",
      "76      31.45 Rejeitado 10/12/2018 00:00:00\n",
      "77      33.31 Rejeitado   1/7/2018 00:00:00\n",
      "78      32.30 Rejeitado 12/10/2018 00:00:00\n",
      "79      28.69 Rejeitado  7/11/2018 00:00:00\n",
      "80      30.48 Rejeitado  12/1/2018 00:00:00\n",
      "81      31.96    Aceito  13/5/2018 00:00:00\n",
      "82      30.13    Aceito  14/8/2018 00:00:00\n",
      "83      34.17 Rejeitado  13/9/2018 00:00:00\n",
      "84      34.04 Rejeitado 10/12/2018 00:00:00\n",
      "85      34.03 Rejeitado   1/7/2018 00:00:00\n",
      "86      29.00    Aceito 12/10/2018 00:00:00\n",
      "87      34.68    Aceito  7/11/2018 00:00:00\n",
      "88      31.68 Rejeitado  12/1/2018 00:00:00\n",
      "89      34.91 Rejeitado  13/5/2018 00:00:00\n",
      "90      28.70 Rejeitado  14/8/2018 00:00:00\n",
      "91      26.29    Aceito  13/9/2018 00:00:00\n",
      "92      33.47    Aceito 10/12/2018 00:00:00\n",
      "93      30.17    Aceito   1/7/2018 00:00:00\n",
      "94      28.78 Rejeitado 12/10/2018 00:00:00\n",
      "95      29.69 Rejeitado  7/11/2018 00:00:00\n",
      "96      30.26 Rejeitado  12/1/2018 00:00:00\n",
      "97      28.86 Rejeitado  13/5/2018 00:00:00\n",
      "98      27.64 Rejeitado  14/8/2018 00:00:00\n",
      "99      30.93    Aceito  13/9/2018 00:00:00\n",
      "100     26.14    Aceito 10/12/2018 00:00:00\n"
     ]
    }
   ],
   "source": [
    "x<-read.csv(\"Aula1EstDescritiva.csv\", header = TRUE, sep = \";\")\n",
    "print(x)"
   ]
  },
  {
   "cell_type": "code",
   "execution_count": 17,
   "metadata": {},
   "outputs": [],
   "source": [
    "x<-as.data.frame(x)\n",
    "my_data<-x"
   ]
  },
  {
   "cell_type": "code",
   "execution_count": 18,
   "metadata": {
    "collapsed": true
   },
   "outputs": [
    {
     "data": {
      "text/html": [
       "<table>\n",
       "<thead><tr><th scope=col>Raio..cm.</th><th scope=col>Data</th></tr></thead>\n",
       "<tbody>\n",
       "\t<tr><td>28.64              </td><td>13/5/2018 00:00:00 </td></tr>\n",
       "\t<tr><td>28.99              </td><td>14/8/2018 00:00:00 </td></tr>\n",
       "\t<tr><td>29.78              </td><td>13/9/2018 00:00:00 </td></tr>\n",
       "\t<tr><td>30.47              </td><td>10/12/2018 00:00:00</td></tr>\n",
       "\t<tr><td>33.78              </td><td>1/7/2018 00:00:00  </td></tr>\n",
       "\t<tr><td>30.63              </td><td>12/10/2018 00:00:00</td></tr>\n",
       "\t<tr><td>32.81              </td><td>7/11/2018 00:00:00 </td></tr>\n",
       "\t<tr><td>27.99              </td><td>12/1/2018 00:00:00 </td></tr>\n",
       "\t<tr><td>32.08              </td><td>13/5/2018 00:00:00 </td></tr>\n",
       "\t<tr><td>31.54              </td><td>14/8/2018 00:00:00 </td></tr>\n",
       "\t<tr><td>29.08              </td><td>13/9/2018 00:00:00 </td></tr>\n",
       "\t<tr><td>26.85              </td><td>10/12/2018 00:00:00</td></tr>\n",
       "\t<tr><td>32.65              </td><td>1/7/2018 00:00:00  </td></tr>\n",
       "\t<tr><td>26.50              </td><td>12/10/2018 00:00:00</td></tr>\n",
       "\t<tr><td>28.67              </td><td>7/11/2018 00:00:00 </td></tr>\n",
       "\t<tr><td>28.52              </td><td>12/1/2018 00:00:00 </td></tr>\n",
       "\t<tr><td>26.71              </td><td>13/5/2018 00:00:00 </td></tr>\n",
       "\t<tr><td>36.13              </td><td>14/8/2018 00:00:00 </td></tr>\n",
       "\t<tr><td>35.12              </td><td>13/9/2018 00:00:00 </td></tr>\n",
       "\t<tr><td>28.16              </td><td>10/12/2018 00:00:00</td></tr>\n",
       "\t<tr><td>28.69              </td><td>1/7/2018 00:00:00  </td></tr>\n",
       "\t<tr><td>32.47              </td><td>12/10/2018 00:00:00</td></tr>\n",
       "\t<tr><td>30.70              </td><td>7/11/2018 00:00:00 </td></tr>\n",
       "\t<tr><td>31.56              </td><td>12/1/2018 00:00:00 </td></tr>\n",
       "\t<tr><td>28.22              </td><td>13/5/2018 00:00:00 </td></tr>\n",
       "\t<tr><td>28.08              </td><td>14/8/2018 00:00:00 </td></tr>\n",
       "\t<tr><td>29.98              </td><td>13/9/2018 00:00:00 </td></tr>\n",
       "\t<tr><td>29.58              </td><td>10/12/2018 00:00:00</td></tr>\n",
       "\t<tr><td>30.37              </td><td>1/7/2018 00:00:00  </td></tr>\n",
       "\t<tr><td>31.60              </td><td>12/10/2018 00:00:00</td></tr>\n",
       "\t<tr><td>...</td><td>...</td></tr>\n",
       "\t<tr><td>33.62              </td><td>7/11/2018 00:00:00 </td></tr>\n",
       "\t<tr><td>31.19              </td><td>12/1/2018 00:00:00 </td></tr>\n",
       "\t<tr><td>30.03              </td><td>13/5/2018 00:00:00 </td></tr>\n",
       "\t<tr><td>30.00              </td><td>14/8/2018 00:00:00 </td></tr>\n",
       "\t<tr><td>28.37              </td><td>13/9/2018 00:00:00 </td></tr>\n",
       "\t<tr><td>31.45              </td><td>10/12/2018 00:00:00</td></tr>\n",
       "\t<tr><td>33.31              </td><td>1/7/2018 00:00:00  </td></tr>\n",
       "\t<tr><td>32.30              </td><td>12/10/2018 00:00:00</td></tr>\n",
       "\t<tr><td>28.69              </td><td>7/11/2018 00:00:00 </td></tr>\n",
       "\t<tr><td>30.48              </td><td>12/1/2018 00:00:00 </td></tr>\n",
       "\t<tr><td>31.96              </td><td>13/5/2018 00:00:00 </td></tr>\n",
       "\t<tr><td>30.13              </td><td>14/8/2018 00:00:00 </td></tr>\n",
       "\t<tr><td>34.17              </td><td>13/9/2018 00:00:00 </td></tr>\n",
       "\t<tr><td>34.04              </td><td>10/12/2018 00:00:00</td></tr>\n",
       "\t<tr><td>34.03              </td><td>1/7/2018 00:00:00  </td></tr>\n",
       "\t<tr><td>29.00              </td><td>12/10/2018 00:00:00</td></tr>\n",
       "\t<tr><td>34.68              </td><td>7/11/2018 00:00:00 </td></tr>\n",
       "\t<tr><td>31.68              </td><td>12/1/2018 00:00:00 </td></tr>\n",
       "\t<tr><td>34.91              </td><td>13/5/2018 00:00:00 </td></tr>\n",
       "\t<tr><td>28.70              </td><td>14/8/2018 00:00:00 </td></tr>\n",
       "\t<tr><td>26.29              </td><td>13/9/2018 00:00:00 </td></tr>\n",
       "\t<tr><td>33.47              </td><td>10/12/2018 00:00:00</td></tr>\n",
       "\t<tr><td>30.17              </td><td>1/7/2018 00:00:00  </td></tr>\n",
       "\t<tr><td>28.78              </td><td>12/10/2018 00:00:00</td></tr>\n",
       "\t<tr><td>29.69              </td><td>7/11/2018 00:00:00 </td></tr>\n",
       "\t<tr><td>30.26              </td><td>12/1/2018 00:00:00 </td></tr>\n",
       "\t<tr><td>28.86              </td><td>13/5/2018 00:00:00 </td></tr>\n",
       "\t<tr><td>27.64              </td><td>14/8/2018 00:00:00 </td></tr>\n",
       "\t<tr><td>30.93              </td><td>13/9/2018 00:00:00 </td></tr>\n",
       "\t<tr><td>26.14              </td><td>10/12/2018 00:00:00</td></tr>\n",
       "</tbody>\n",
       "</table>\n"
      ],
      "text/latex": [
       "\\begin{tabular}{r|ll}\n",
       " Raio..cm. & Data\\\\\n",
       "\\hline\n",
       "\t 28.64               & 13/5/2018 00:00:00 \\\\\n",
       "\t 28.99               & 14/8/2018 00:00:00 \\\\\n",
       "\t 29.78               & 13/9/2018 00:00:00 \\\\\n",
       "\t 30.47               & 10/12/2018 00:00:00\\\\\n",
       "\t 33.78               & 1/7/2018 00:00:00  \\\\\n",
       "\t 30.63               & 12/10/2018 00:00:00\\\\\n",
       "\t 32.81               & 7/11/2018 00:00:00 \\\\\n",
       "\t 27.99               & 12/1/2018 00:00:00 \\\\\n",
       "\t 32.08               & 13/5/2018 00:00:00 \\\\\n",
       "\t 31.54               & 14/8/2018 00:00:00 \\\\\n",
       "\t 29.08               & 13/9/2018 00:00:00 \\\\\n",
       "\t 26.85               & 10/12/2018 00:00:00\\\\\n",
       "\t 32.65               & 1/7/2018 00:00:00  \\\\\n",
       "\t 26.50               & 12/10/2018 00:00:00\\\\\n",
       "\t 28.67               & 7/11/2018 00:00:00 \\\\\n",
       "\t 28.52               & 12/1/2018 00:00:00 \\\\\n",
       "\t 26.71               & 13/5/2018 00:00:00 \\\\\n",
       "\t 36.13               & 14/8/2018 00:00:00 \\\\\n",
       "\t 35.12               & 13/9/2018 00:00:00 \\\\\n",
       "\t 28.16               & 10/12/2018 00:00:00\\\\\n",
       "\t 28.69               & 1/7/2018 00:00:00  \\\\\n",
       "\t 32.47               & 12/10/2018 00:00:00\\\\\n",
       "\t 30.70               & 7/11/2018 00:00:00 \\\\\n",
       "\t 31.56               & 12/1/2018 00:00:00 \\\\\n",
       "\t 28.22               & 13/5/2018 00:00:00 \\\\\n",
       "\t 28.08               & 14/8/2018 00:00:00 \\\\\n",
       "\t 29.98               & 13/9/2018 00:00:00 \\\\\n",
       "\t 29.58               & 10/12/2018 00:00:00\\\\\n",
       "\t 30.37               & 1/7/2018 00:00:00  \\\\\n",
       "\t 31.60               & 12/10/2018 00:00:00\\\\\n",
       "\t ... & ...\\\\\n",
       "\t 33.62               & 7/11/2018 00:00:00 \\\\\n",
       "\t 31.19               & 12/1/2018 00:00:00 \\\\\n",
       "\t 30.03               & 13/5/2018 00:00:00 \\\\\n",
       "\t 30.00               & 14/8/2018 00:00:00 \\\\\n",
       "\t 28.37               & 13/9/2018 00:00:00 \\\\\n",
       "\t 31.45               & 10/12/2018 00:00:00\\\\\n",
       "\t 33.31               & 1/7/2018 00:00:00  \\\\\n",
       "\t 32.30               & 12/10/2018 00:00:00\\\\\n",
       "\t 28.69               & 7/11/2018 00:00:00 \\\\\n",
       "\t 30.48               & 12/1/2018 00:00:00 \\\\\n",
       "\t 31.96               & 13/5/2018 00:00:00 \\\\\n",
       "\t 30.13               & 14/8/2018 00:00:00 \\\\\n",
       "\t 34.17               & 13/9/2018 00:00:00 \\\\\n",
       "\t 34.04               & 10/12/2018 00:00:00\\\\\n",
       "\t 34.03               & 1/7/2018 00:00:00  \\\\\n",
       "\t 29.00               & 12/10/2018 00:00:00\\\\\n",
       "\t 34.68               & 7/11/2018 00:00:00 \\\\\n",
       "\t 31.68               & 12/1/2018 00:00:00 \\\\\n",
       "\t 34.91               & 13/5/2018 00:00:00 \\\\\n",
       "\t 28.70               & 14/8/2018 00:00:00 \\\\\n",
       "\t 26.29               & 13/9/2018 00:00:00 \\\\\n",
       "\t 33.47               & 10/12/2018 00:00:00\\\\\n",
       "\t 30.17               & 1/7/2018 00:00:00  \\\\\n",
       "\t 28.78               & 12/10/2018 00:00:00\\\\\n",
       "\t 29.69               & 7/11/2018 00:00:00 \\\\\n",
       "\t 30.26               & 12/1/2018 00:00:00 \\\\\n",
       "\t 28.86               & 13/5/2018 00:00:00 \\\\\n",
       "\t 27.64               & 14/8/2018 00:00:00 \\\\\n",
       "\t 30.93               & 13/9/2018 00:00:00 \\\\\n",
       "\t 26.14               & 10/12/2018 00:00:00\\\\\n",
       "\\end{tabular}\n"
      ],
      "text/markdown": [
       "\n",
       "Raio..cm. | Data | \n",
       "|---|---|---|---|---|---|---|---|---|---|---|---|---|---|---|---|---|---|---|---|---|---|---|---|---|---|---|---|---|---|---|---|---|---|---|---|---|---|---|---|---|---|---|---|---|---|---|---|---|---|---|---|---|---|---|---|---|---|---|---|---|\n",
       "| 28.64               | 13/5/2018 00:00:00  | \n",
       "| 28.99               | 14/8/2018 00:00:00  | \n",
       "| 29.78               | 13/9/2018 00:00:00  | \n",
       "| 30.47               | 10/12/2018 00:00:00 | \n",
       "| 33.78               | 1/7/2018 00:00:00   | \n",
       "| 30.63               | 12/10/2018 00:00:00 | \n",
       "| 32.81               | 7/11/2018 00:00:00  | \n",
       "| 27.99               | 12/1/2018 00:00:00  | \n",
       "| 32.08               | 13/5/2018 00:00:00  | \n",
       "| 31.54               | 14/8/2018 00:00:00  | \n",
       "| 29.08               | 13/9/2018 00:00:00  | \n",
       "| 26.85               | 10/12/2018 00:00:00 | \n",
       "| 32.65               | 1/7/2018 00:00:00   | \n",
       "| 26.50               | 12/10/2018 00:00:00 | \n",
       "| 28.67               | 7/11/2018 00:00:00  | \n",
       "| 28.52               | 12/1/2018 00:00:00  | \n",
       "| 26.71               | 13/5/2018 00:00:00  | \n",
       "| 36.13               | 14/8/2018 00:00:00  | \n",
       "| 35.12               | 13/9/2018 00:00:00  | \n",
       "| 28.16               | 10/12/2018 00:00:00 | \n",
       "| 28.69               | 1/7/2018 00:00:00   | \n",
       "| 32.47               | 12/10/2018 00:00:00 | \n",
       "| 30.70               | 7/11/2018 00:00:00  | \n",
       "| 31.56               | 12/1/2018 00:00:00  | \n",
       "| 28.22               | 13/5/2018 00:00:00  | \n",
       "| 28.08               | 14/8/2018 00:00:00  | \n",
       "| 29.98               | 13/9/2018 00:00:00  | \n",
       "| 29.58               | 10/12/2018 00:00:00 | \n",
       "| 30.37               | 1/7/2018 00:00:00   | \n",
       "| 31.60               | 12/10/2018 00:00:00 | \n",
       "| ... | ... | \n",
       "| 33.62               | 7/11/2018 00:00:00  | \n",
       "| 31.19               | 12/1/2018 00:00:00  | \n",
       "| 30.03               | 13/5/2018 00:00:00  | \n",
       "| 30.00               | 14/8/2018 00:00:00  | \n",
       "| 28.37               | 13/9/2018 00:00:00  | \n",
       "| 31.45               | 10/12/2018 00:00:00 | \n",
       "| 33.31               | 1/7/2018 00:00:00   | \n",
       "| 32.30               | 12/10/2018 00:00:00 | \n",
       "| 28.69               | 7/11/2018 00:00:00  | \n",
       "| 30.48               | 12/1/2018 00:00:00  | \n",
       "| 31.96               | 13/5/2018 00:00:00  | \n",
       "| 30.13               | 14/8/2018 00:00:00  | \n",
       "| 34.17               | 13/9/2018 00:00:00  | \n",
       "| 34.04               | 10/12/2018 00:00:00 | \n",
       "| 34.03               | 1/7/2018 00:00:00   | \n",
       "| 29.00               | 12/10/2018 00:00:00 | \n",
       "| 34.68               | 7/11/2018 00:00:00  | \n",
       "| 31.68               | 12/1/2018 00:00:00  | \n",
       "| 34.91               | 13/5/2018 00:00:00  | \n",
       "| 28.70               | 14/8/2018 00:00:00  | \n",
       "| 26.29               | 13/9/2018 00:00:00  | \n",
       "| 33.47               | 10/12/2018 00:00:00 | \n",
       "| 30.17               | 1/7/2018 00:00:00   | \n",
       "| 28.78               | 12/10/2018 00:00:00 | \n",
       "| 29.69               | 7/11/2018 00:00:00  | \n",
       "| 30.26               | 12/1/2018 00:00:00  | \n",
       "| 28.86               | 13/5/2018 00:00:00  | \n",
       "| 27.64               | 14/8/2018 00:00:00  | \n",
       "| 30.93               | 13/9/2018 00:00:00  | \n",
       "| 26.14               | 10/12/2018 00:00:00 | \n",
       "\n",
       "\n"
      ],
      "text/plain": [
       "    Raio..cm. Data               \n",
       "1   28.64     13/5/2018 00:00:00 \n",
       "2   28.99     14/8/2018 00:00:00 \n",
       "3   29.78     13/9/2018 00:00:00 \n",
       "4   30.47     10/12/2018 00:00:00\n",
       "5   33.78     1/7/2018 00:00:00  \n",
       "6   30.63     12/10/2018 00:00:00\n",
       "7   32.81     7/11/2018 00:00:00 \n",
       "8   27.99     12/1/2018 00:00:00 \n",
       "9   32.08     13/5/2018 00:00:00 \n",
       "10  31.54     14/8/2018 00:00:00 \n",
       "11  29.08     13/9/2018 00:00:00 \n",
       "12  26.85     10/12/2018 00:00:00\n",
       "13  32.65     1/7/2018 00:00:00  \n",
       "14  26.50     12/10/2018 00:00:00\n",
       "15  28.67     7/11/2018 00:00:00 \n",
       "16  28.52     12/1/2018 00:00:00 \n",
       "17  26.71     13/5/2018 00:00:00 \n",
       "18  36.13     14/8/2018 00:00:00 \n",
       "19  35.12     13/9/2018 00:00:00 \n",
       "20  28.16     10/12/2018 00:00:00\n",
       "21  28.69     1/7/2018 00:00:00  \n",
       "22  32.47     12/10/2018 00:00:00\n",
       "23  30.70     7/11/2018 00:00:00 \n",
       "24  31.56     12/1/2018 00:00:00 \n",
       "25  28.22     13/5/2018 00:00:00 \n",
       "26  28.08     14/8/2018 00:00:00 \n",
       "27  29.98     13/9/2018 00:00:00 \n",
       "28  29.58     10/12/2018 00:00:00\n",
       "29  30.37     1/7/2018 00:00:00  \n",
       "30  31.60     12/10/2018 00:00:00\n",
       "... ...       ...                \n",
       "71  33.62     7/11/2018 00:00:00 \n",
       "72  31.19     12/1/2018 00:00:00 \n",
       "73  30.03     13/5/2018 00:00:00 \n",
       "74  30.00     14/8/2018 00:00:00 \n",
       "75  28.37     13/9/2018 00:00:00 \n",
       "76  31.45     10/12/2018 00:00:00\n",
       "77  33.31     1/7/2018 00:00:00  \n",
       "78  32.30     12/10/2018 00:00:00\n",
       "79  28.69     7/11/2018 00:00:00 \n",
       "80  30.48     12/1/2018 00:00:00 \n",
       "81  31.96     13/5/2018 00:00:00 \n",
       "82  30.13     14/8/2018 00:00:00 \n",
       "83  34.17     13/9/2018 00:00:00 \n",
       "84  34.04     10/12/2018 00:00:00\n",
       "85  34.03     1/7/2018 00:00:00  \n",
       "86  29.00     12/10/2018 00:00:00\n",
       "87  34.68     7/11/2018 00:00:00 \n",
       "88  31.68     12/1/2018 00:00:00 \n",
       "89  34.91     13/5/2018 00:00:00 \n",
       "90  28.70     14/8/2018 00:00:00 \n",
       "91  26.29     13/9/2018 00:00:00 \n",
       "92  33.47     10/12/2018 00:00:00\n",
       "93  30.17     1/7/2018 00:00:00  \n",
       "94  28.78     12/10/2018 00:00:00\n",
       "95  29.69     7/11/2018 00:00:00 \n",
       "96  30.26     12/1/2018 00:00:00 \n",
       "97  28.86     13/5/2018 00:00:00 \n",
       "98  27.64     14/8/2018 00:00:00 \n",
       "99  30.93     13/9/2018 00:00:00 \n",
       "100 26.14     10/12/2018 00:00:00"
      ]
     },
     "metadata": {},
     "output_type": "display_data"
    }
   ],
   "source": [
    "my_data[, c(1, 3)]"
   ]
  },
  {
   "cell_type": "code",
   "execution_count": 19,
   "metadata": {},
   "outputs": [],
   "source": [
    "my_data<-my_data[, c(1)]"
   ]
  },
  {
   "cell_type": "code",
   "execution_count": 20,
   "metadata": {
    "collapsed": true
   },
   "outputs": [
    {
     "name": "stdout",
     "output_type": "stream",
     "text": [
      "  [1] 28.64 28.99 29.78 30.47 33.78 30.63 32.81 27.99 32.08 31.54 29.08 26.85\n",
      " [13] 32.65 26.50 28.67 28.52 26.71 36.13 35.12 28.16 28.69 32.47 30.70 31.56\n",
      " [25] 28.22 28.08 29.98 29.58 30.37 31.60 27.72 28.03 31.95 27.92 30.95 29.59\n",
      " [37] 30.22 28.78 30.51 28.88 30.08 27.17 31.24 28.96 28.30 27.91 29.68 34.53\n",
      " [49] 29.72 26.57 28.32 27.04 30.50 27.74 30.44 28.09 30.24 26.42 30.76 30.93\n",
      " [61] 27.63 26.24 30.92 26.65 33.89 30.15 28.01 32.03 27.32 32.66 33.62 31.19\n",
      " [73] 30.03 30.00 28.37 31.45 33.31 32.30 28.69 30.48 31.96 30.13 34.17 34.04\n",
      " [85] 34.03 29.00 34.68 31.68 34.91 28.70 26.29 33.47 30.17 28.78 29.69 30.26\n",
      " [97] 28.86 27.64 30.93 26.14\n"
     ]
    }
   ],
   "source": [
    "print(my_data)"
   ]
  },
  {
   "cell_type": "code",
   "execution_count": 21,
   "metadata": {},
   "outputs": [
    {
     "data": {
      "text/plain": [
       "   Min. 1st Qu.  Median    Mean 3rd Qu.    Max. \n",
       "  26.14   28.28   30.02   30.06   31.55   36.13 "
      ]
     },
     "metadata": {},
     "output_type": "display_data"
    }
   ],
   "source": [
    "#Importante! summary sem \"S\" Maiúsculo!!\n",
    "summary(my_data)"
   ]
  },
  {
   "cell_type": "code",
   "execution_count": 23,
   "metadata": {},
   "outputs": [
    {
     "data": {
      "text/html": [
       "26.14"
      ],
      "text/latex": [
       "26.14"
      ],
      "text/markdown": [
       "26.14"
      ],
      "text/plain": [
       "[1] 26.14"
      ]
     },
     "metadata": {},
     "output_type": "display_data"
    }
   ],
   "source": [
    "min(my_data)"
   ]
  },
  {
   "cell_type": "code",
   "execution_count": 24,
   "metadata": {},
   "outputs": [
    {
     "data": {
      "text/html": [
       "36.13"
      ],
      "text/latex": [
       "36.13"
      ],
      "text/markdown": [
       "36.13"
      ],
      "text/plain": [
       "[1] 36.13"
      ]
     },
     "metadata": {},
     "output_type": "display_data"
    }
   ],
   "source": [
    "max(my_data)"
   ]
  },
  {
   "cell_type": "code",
   "execution_count": 25,
   "metadata": {},
   "outputs": [
    {
     "data": {
      "text/html": [
       "<ol class=list-inline>\n",
       "\t<li>26.14</li>\n",
       "\t<li>36.13</li>\n",
       "</ol>\n"
      ],
      "text/latex": [
       "\\begin{enumerate*}\n",
       "\\item 26.14\n",
       "\\item 36.13\n",
       "\\end{enumerate*}\n"
      ],
      "text/markdown": [
       "1. 26.14\n",
       "2. 36.13\n",
       "\n",
       "\n"
      ],
      "text/plain": [
       "[1] 26.14 36.13"
      ]
     },
     "metadata": {},
     "output_type": "display_data"
    }
   ],
   "source": [
    "range(my_data)"
   ]
  },
  {
   "cell_type": "code",
   "execution_count": 26,
   "metadata": {},
   "outputs": [
    {
     "data": {
      "text/html": [
       "30.0601"
      ],
      "text/latex": [
       "30.0601"
      ],
      "text/markdown": [
       "30.0601"
      ],
      "text/plain": [
       "[1] 30.0601"
      ]
     },
     "metadata": {},
     "output_type": "display_data"
    }
   ],
   "source": [
    "mean(my_data)"
   ]
  },
  {
   "cell_type": "code",
   "execution_count": 27,
   "metadata": {},
   "outputs": [
    {
     "data": {
      "text/html": [
       "30.015"
      ],
      "text/latex": [
       "30.015"
      ],
      "text/markdown": [
       "30.015"
      ],
      "text/plain": [
       "[1] 30.015"
      ]
     },
     "metadata": {},
     "output_type": "display_data"
    }
   ],
   "source": [
    "median(my_data)"
   ]
  },
  {
   "cell_type": "code",
   "execution_count": 28,
   "metadata": {},
   "outputs": [
    {
     "data": {
      "text/html": [
       "2.33030127457868"
      ],
      "text/latex": [
       "2.33030127457868"
      ],
      "text/markdown": [
       "2.33030127457868"
      ],
      "text/plain": [
       "[1] 2.330301"
      ]
     },
     "metadata": {},
     "output_type": "display_data"
    }
   ],
   "source": [
    "sd(my_data)"
   ]
  },
  {
   "cell_type": "code",
   "execution_count": 29,
   "metadata": {},
   "outputs": [
    {
     "data": {
      "text/html": [
       "2.453703"
      ],
      "text/latex": [
       "2.453703"
      ],
      "text/markdown": [
       "2.453703"
      ],
      "text/plain": [
       "[1] 2.453703"
      ]
     },
     "metadata": {},
     "output_type": "display_data"
    }
   ],
   "source": [
    "mad(my_data)"
   ]
  },
  {
   "cell_type": "code",
   "execution_count": 30,
   "metadata": {},
   "outputs": [
    {
     "data": {
      "text/html": [
       "3.265"
      ],
      "text/latex": [
       "3.265"
      ],
      "text/markdown": [
       "3.265"
      ],
      "text/plain": [
       "[1] 3.265"
      ]
     },
     "metadata": {},
     "output_type": "display_data"
    }
   ],
   "source": [
    "IQR(my_data)"
   ]
  },
  {
   "cell_type": "raw",
   "metadata": {},
   "source": [
    "quantile(my_data)"
   ]
  },
  {
   "cell_type": "code",
   "execution_count": 32,
   "metadata": {},
   "outputs": [
    {
     "data": {
      "text/html": [
       "<dl class=dl-horizontal>\n",
       "\t<dt>25%</dt>\n",
       "\t\t<dd>28.28</dd>\n",
       "\t<dt>75%</dt>\n",
       "\t\t<dd>31.545</dd>\n",
       "</dl>\n"
      ],
      "text/latex": [
       "\\begin{description*}\n",
       "\\item[25\\textbackslash{}\\%] 28.28\n",
       "\\item[75\\textbackslash{}\\%] 31.545\n",
       "\\end{description*}\n"
      ],
      "text/markdown": [
       "25%\n",
       ":   28.2875%\n",
       ":   31.545\n",
       "\n"
      ],
      "text/plain": [
       "   25%    75% \n",
       "28.280 31.545 "
      ]
     },
     "metadata": {},
     "output_type": "display_data"
    }
   ],
   "source": [
    "quantile(my_data, c(1, 3)/4)"
   ]
  },
  {
   "cell_type": "markdown",
   "metadata": {},
   "source": [
    "# Perceba que calculando estatísticas básicas temos uma primeira foto dos nossos dados. vamos gerar um data frame onde teremos 2 colunas, na coluna A 10 linhas distribuídas segundo uma normal (0;1); na segunda coluna 10 linhas distribuídas segundo uma poisson com lambda = 10\n"
   ]
  },
  {
   "cell_type": "markdown",
   "metadata": {},
   "source": [
    "Lembrando a distribuição de Poisson :$$P(x) = \\frac{{e^{ - \\lambda } \\lambda ^x }}{{x!}} \\ Com \\ media \\ {\\lambda} \\ e \\ desvio-padrao \\ \\sqrt{\\lambda}$$\n",
    "Lembrando a distribuição Normal: \n",
    "$$P(x)=\\frac{1}{{\\sigma \\sqrt {2\\pi }}}e^{{{ -{(x - \\mu) }^2 }/{2\\sigma ^2 }}} \\ Com \\ media \\ {\\mu} \\ e \\ desvio-padrao \\ \\sigma$$"
   ]
  },
  {
   "cell_type": "code",
   "execution_count": 1,
   "metadata": {},
   "outputs": [],
   "source": [
    "#Data frame summaries:\n",
    "  A <- data.frame(a=rnorm(10), b=rpois(10, lambda=10))"
   ]
  },
  {
   "cell_type": "code",
   "execution_count": 2,
   "metadata": {},
   "outputs": [
    {
     "name": "stdout",
     "output_type": "stream",
     "text": [
      "            a  b\n",
      "1  -0.2350460  8\n",
      "2  -0.8249850 13\n",
      "3   1.1385534 15\n",
      "4  -0.9568350  7\n",
      "5  -0.5492913  6\n",
      "6  -0.7911421 10\n",
      "7  -1.0524621  8\n",
      "8  -0.2670242 12\n",
      "9  -0.7098989  8\n",
      "10  0.1057685  8\n"
     ]
    }
   ],
   "source": [
    "print(A)"
   ]
  },
  {
   "cell_type": "code",
   "execution_count": 3,
   "metadata": {},
   "outputs": [
    {
     "data": {
      "text/plain": [
       "       a                 b       \n",
       " Min.   :-1.0525   Min.   : 6.0  \n",
       " 1st Qu.:-0.8165   1st Qu.: 8.0  \n",
       " Median :-0.6296   Median : 8.0  \n",
       " Mean   :-0.4142   Mean   : 9.5  \n",
       " 3rd Qu.:-0.2430   3rd Qu.:11.5  \n",
       " Max.   : 1.1386   Max.   :15.0  "
      ]
     },
     "metadata": {},
     "output_type": "display_data"
    }
   ],
   "source": [
    "summary(A) "
   ]
  },
  {
   "cell_type": "code",
   "execution_count": 4,
   "metadata": {},
   "outputs": [
    {
     "data": {
      "text/html": [
       "<ol class=list-inline>\n",
       "\t<li>3.88247700649969</li>\n",
       "\t<li>6.08750751927667</li>\n",
       "\t<li>8.06927672093131</li>\n",
       "\t<li>3.02158248682732</li>\n",
       "\t<li>2.7253543704865</li>\n",
       "\t<li>4.60442896910879</li>\n",
       "\t<li>3.47376894822144</li>\n",
       "\t<li>5.86648790489205</li>\n",
       "\t<li>3.64505056402877</li>\n",
       "\t<li>4.05288425527715</li>\n",
       "</ol>\n"
      ],
      "text/latex": [
       "\\begin{enumerate*}\n",
       "\\item 3.88247700649969\n",
       "\\item 6.08750751927667\n",
       "\\item 8.06927672093131\n",
       "\\item 3.02158248682732\n",
       "\\item 2.7253543704865\n",
       "\\item 4.60442896910879\n",
       "\\item 3.47376894822144\n",
       "\\item 5.86648790489205\n",
       "\\item 3.64505056402877\n",
       "\\item 4.05288425527715\n",
       "\\end{enumerate*}\n"
      ],
      "text/markdown": [
       "1. 3.88247700649969\n",
       "2. 6.08750751927667\n",
       "3. 8.06927672093131\n",
       "4. 3.02158248682732\n",
       "5. 2.7253543704865\n",
       "6. 4.60442896910879\n",
       "7. 3.47376894822144\n",
       "8. 5.86648790489205\n",
       "9. 3.64505056402877\n",
       "10. 4.05288425527715\n",
       "\n",
       "\n"
      ],
      "text/plain": [
       " [1] 3.882477 6.087508 8.069277 3.021582 2.725354 4.604429 3.473769 5.866488\n",
       " [9] 3.645051 4.052884"
      ]
     },
     "metadata": {},
     "output_type": "display_data"
    }
   ],
   "source": [
    "apply(A, 1, mean) # calculate row means"
   ]
  },
  {
   "cell_type": "code",
   "execution_count": 5,
   "metadata": {},
   "outputs": [
    {
     "data": {
      "text/html": [
       "<dl class=dl-horizontal>\n",
       "\t<dt>a</dt>\n",
       "\t\t<dd>-0.414236250890062</dd>\n",
       "\t<dt>b</dt>\n",
       "\t\t<dd>9.5</dd>\n",
       "</dl>\n"
      ],
      "text/latex": [
       "\\begin{description*}\n",
       "\\item[a] -0.414236250890062\n",
       "\\item[b] 9.5\n",
       "\\end{description*}\n"
      ],
      "text/markdown": [
       "a\n",
       ":   -0.414236250890062b\n",
       ":   9.5\n",
       "\n"
      ],
      "text/plain": [
       "         a          b \n",
       "-0.4142363  9.5000000 "
      ]
     },
     "metadata": {},
     "output_type": "display_data"
    }
   ],
   "source": [
    "apply(A, 2, mean)    # calculate column means: same as \"mean(A)\""
   ]
  },
  {
   "cell_type": "code",
   "execution_count": 15,
   "metadata": {},
   "outputs": [],
   "source": [
    "set.seed(123)     # allow reproducible random numbers"
   ]
  },
  {
   "cell_type": "code",
   "execution_count": 24,
   "metadata": {},
   "outputs": [],
   "source": [
    "x <- sample(20)"
   ]
  },
  {
   "cell_type": "code",
   "execution_count": 25,
   "metadata": {},
   "outputs": [
    {
     "name": "stdout",
     "output_type": "stream",
     "text": [
      " [1] 13  6 18 16 17  1  9  7 12  4 20  3  2  8 14  5 10 19 11 15\n"
     ]
    }
   ],
   "source": [
    "print(x)"
   ]
  },
  {
   "cell_type": "code",
   "execution_count": 26,
   "metadata": {},
   "outputs": [
    {
     "data": {
      "text/html": [
       "11"
      ],
      "text/latex": [
       "11"
      ],
      "text/markdown": [
       "11"
      ],
      "text/plain": [
       "[1] 11"
      ]
     },
     "metadata": {},
     "output_type": "display_data"
    }
   ],
   "source": [
    "which.max(x) #Determines the location, i.e., index of the (first) minimum or maximum of a numeric (or logical) vector"
   ]
  },
  {
   "cell_type": "code",
   "execution_count": 27,
   "metadata": {},
   "outputs": [
    {
     "data": {
      "text/html": [
       "20"
      ],
      "text/latex": [
       "20"
      ],
      "text/markdown": [
       "20"
      ],
      "text/plain": [
       "[1] 20"
      ]
     },
     "metadata": {},
     "output_type": "display_data"
    }
   ],
   "source": [
    "x[which.max(x)]#Veja que aqui ele não traz mais a posição, mas sim, o maior número"
   ]
  },
  {
   "cell_type": "code",
   "execution_count": 23,
   "metadata": {},
   "outputs": [
    {
     "data": {
      "text/html": [
       "4"
      ],
      "text/latex": [
       "4"
      ],
      "text/markdown": [
       "4"
      ],
      "text/plain": [
       "[1] 4"
      ]
     },
     "metadata": {},
     "output_type": "display_data"
    }
   ],
   "source": [
    "which.min(x) # Idem ao mínimo"
   ]
  },
  {
   "cell_type": "code",
   "execution_count": 28,
   "metadata": {},
   "outputs": [],
   "source": [
    "A <- data.frame(x=rnorm(10), y=runif(10))"
   ]
  },
  {
   "cell_type": "code",
   "execution_count": 29,
   "metadata": {},
   "outputs": [
    {
     "name": "stdout",
     "output_type": "stream",
     "text": [
      "            x         y\n",
      "1   0.8397504 0.1919177\n",
      "2   0.7053418 0.5043918\n",
      "3   1.3059647 0.7638404\n",
      "4  -1.3879962 0.6936689\n",
      "5   1.2729169 0.5440542\n",
      "6   0.1841928 0.6590872\n",
      "7   0.7522799 0.4687284\n",
      "8   0.5917451 0.4818055\n",
      "9  -0.9830526 0.3370636\n",
      "10 -0.2760640 0.4245263\n"
     ]
    }
   ],
   "source": [
    "print(A)"
   ]
  },
  {
   "cell_type": "code",
   "execution_count": 30,
   "metadata": {},
   "outputs": [
    {
     "data": {
      "text/html": [
       "<table>\n",
       "<thead><tr><th></th><th scope=col>x</th><th scope=col>y</th></tr></thead>\n",
       "<tbody>\n",
       "\t<tr><th scope=row>4</th><td>-1.387996</td><td>0.6936689</td></tr>\n",
       "</tbody>\n",
       "</table>\n"
      ],
      "text/latex": [
       "\\begin{tabular}{r|ll}\n",
       "  & x & y\\\\\n",
       "\\hline\n",
       "\t4 & -1.387996 & 0.6936689\\\\\n",
       "\\end{tabular}\n"
      ],
      "text/markdown": [
       "\n",
       "| <!--/--> | x | y | \n",
       "|---|\n",
       "| 4 | -1.387996 | 0.6936689 | \n",
       "\n",
       "\n"
      ],
      "text/plain": [
       "  x         y        \n",
       "4 -1.387996 0.6936689"
      ]
     },
     "metadata": {},
     "output_type": "display_data"
    }
   ],
   "source": [
    "A[which.min(A$x), ]"
   ]
  },
  {
   "cell_type": "code",
   "execution_count": 35,
   "metadata": {},
   "outputs": [
    {
     "data": {
      "image/png": "[encoded data removed]",
      "text/plain": [
       "plot without title"
      ]
     },
     "metadata": {},
     "output_type": "display_data"
    }
   ],
   "source": [
    "plot(x<-rnorm(10),y<-runif(10))"
   ]
  },
  {
   "cell_type": "code",
   "execution_count": 36,
   "metadata": {},
   "outputs": [
    {
     "data": {
      "text/html": [
       "<table>\n",
       "<thead><tr><th></th><th scope=col>x</th><th scope=col>y</th></tr></thead>\n",
       "<tbody>\n",
       "\t<tr><th scope=row>4</th><td>-1.387996</td><td>0.6936689</td></tr>\n",
       "</tbody>\n",
       "</table>\n"
      ],
      "text/latex": [
       "\\begin{tabular}{r|ll}\n",
       "  & x & y\\\\\n",
       "\\hline\n",
       "\t4 & -1.387996 & 0.6936689\\\\\n",
       "\\end{tabular}\n"
      ],
      "text/markdown": [
       "\n",
       "| <!--/--> | x | y | \n",
       "|---|\n",
       "| 4 | -1.387996 | 0.6936689 | \n",
       "\n",
       "\n"
      ],
      "text/plain": [
       "  x         y        \n",
       "4 -1.387996 0.6936689"
      ]
     },
     "metadata": {},
     "output_type": "display_data"
    }
   ],
   "source": [
    "subset(A, x == min(x))"
   ]
  },
  {
   "cell_type": "code",
   "execution_count": 38,
   "metadata": {},
   "outputs": [],
   "source": [
    "x <- rnorm(100)"
   ]
  },
  {
   "cell_type": "code",
   "execution_count": 39,
   "metadata": {},
   "outputs": [
    {
     "data": {
      "text/html": [
       "<ol class=list-inline>\n",
       "\t<li>-2.33996289939867</li>\n",
       "\t<li>-0.603939713537299</li>\n",
       "\t<li>-0.0130838263730009</li>\n",
       "\t<li>0.706445990608759</li>\n",
       "\t<li>2.32711279557824</li>\n",
       "</ol>\n"
      ],
      "text/latex": [
       "\\begin{enumerate*}\n",
       "\\item -2.33996289939867\n",
       "\\item -0.603939713537299\n",
       "\\item -0.0130838263730009\n",
       "\\item 0.706445990608759\n",
       "\\item 2.32711279557824\n",
       "\\end{enumerate*}\n"
      ],
      "text/markdown": [
       "1. -2.33996289939867\n",
       "2. -0.603939713537299\n",
       "3. -0.0130838263730009\n",
       "4. 0.706445990608759\n",
       "5. 2.32711279557824\n",
       "\n",
       "\n"
      ],
      "text/plain": [
       "[1] -2.33996290 -0.60393971 -0.01308383  0.70644599  2.32711280"
      ]
     },
     "metadata": {},
     "output_type": "display_data"
    }
   ],
   "source": [
    "fivenum(x)       # Tukey's five number summary, used to construct a boxplot:"
   ]
  },
  {
   "cell_type": "code",
   "execution_count": 40,
   "metadata": {},
   "outputs": [
    {
     "data": {
      "image/png": "[encoded data removed]",
      "text/plain": [
       "plot without title"
      ]
     },
     "metadata": {},
     "output_type": "display_data"
    }
   ],
   "source": [
    "boxplot(x)       # see ?boxplot.stats for more details"
   ]
  },
  {
   "cell_type": "code",
   "execution_count": 41,
   "metadata": {},
   "outputs": [
    {
     "name": "stdout",
     "output_type": "stream",
     "text": [
      "\n",
      "  The decimal point is at the |\n",
      "\n",
      "  -2 | 3\n",
      "  -1 | 99988665\n",
      "  -1 | 4332100\n",
      "  -0 | 999887766666655\n",
      "  -0 | 444444333222111100000\n",
      "   0 | 000011123333444\n",
      "   0 | 555666777789\n",
      "   1 | 00011122222223\n",
      "   1 | 555\n",
      "   2 | 0023\n",
      "\n"
     ]
    }
   ],
   "source": [
    "stem(x)          # A stem-and-leaf plot"
   ]
  },
  {
   "cell_type": "code",
   "execution_count": 42,
   "metadata": {},
   "outputs": [],
   "source": [
    "#Load some data on a sample of 20 galaxy clusters with a categorical classification status (cctype) indicating whether there is a cool core or not and a factor (det) specifying which of two detectors was used to make the X-ray observation of the cluster:\n",
    "  file <- \"http://www.sr.bham.ac.uk/~ajrs/papers/sanderson09/sanderson09_table2.txt\"\n",
    "a <- read.table(file, header=TRUE, sep=\"|\")"
   ]
  },
  {
   "cell_type": "code",
   "execution_count": 43,
   "metadata": {},
   "outputs": [
    {
     "name": "stdout",
     "output_type": "stream",
     "text": [
      "       nedname obsid det      z   kT kT.lo kT.up r500.kpc r500.kpc.lo\n",
      "1     NGC 5044   798   S 0.0082 1.17  1.12  1.21      513         502\n",
      "2    Abell 262  2215   S 0.0163 2.08  2.00  2.19      693         678\n",
      "3   Abell 1060  2220   I 0.0124 2.92  2.81  3.03      829         812\n",
      "4   Abell 4038  4992   I 0.0300 3.04  2.95  3.11      840         827\n",
      "5   Abell 1367   514   S 0.0220 3.22  3.04  3.40      870         843\n",
      "6   Abell 2147  3211   I 0.0350 3.69  3.51  3.86      928         905\n",
      "7  2A 0335+096   919   S 0.0349 4.09  3.96  4.22      980         964\n",
      "8   Abell 2199   497   S 0.0299 4.50  4.26  4.70     1034        1004\n",
      "9    Abell 496  4976   S 0.0331 4.80  4.66  4.94     1067        1050\n",
      "10  Abell 1795  5289   I 0.0620 5.62  5.26  5.98     1144        1105\n",
      "11  Abell 3571  4203   S 0.0391 6.41  6.18  6.64     1239        1216\n",
      "12  Abell 2256  1386   I 0.0581 6.52  6.16  6.91     1239        1203\n",
      "13    Abell 85   904   I 0.0594 6.64  6.45  6.85     1251        1231\n",
      "14  Abell 3558  1646   S 0.0480 7.17  6.71  7.67     1310        1265\n",
      "15  Abell 3667   889   I 0.0556 7.60  7.22  7.97     1345        1310\n",
      "16   Abell 478  1669   S 0.0880 8.23  7.97  8.49     1381        1358\n",
      "17  Abell 3266   899   I 0.0550 8.38  7.96  9.06     1417        1379\n",
      "18  Abell 2029  4977   S 0.0770 8.96  8.66  9.26     1452        1427\n",
      "19   Abell 401  2309   I 0.0740 9.16  8.10 10.57     1472        1379\n",
      "20  Abell 2142  5005   I 0.0909 9.50  9.08  9.93     1488        1452\n",
      "   r500.kpc.up     Z   Z.lo  Z.up cctype S01 S01.lo S01.up index index.lo\n",
      "1          523 0.367 0.3062 0.454     CC  50   33.3   77.1 0.714   0.6219\n",
      "2          712 0.379 0.3043 0.479     CC 126  105.7  173.9 0.912   0.7801\n",
      "3          845 0.497 0.4296 0.571 non-CC 191  183.5  199.6 0.435   0.3656\n",
      "4          850 0.602 0.5326 0.672 non-CC 136  131.6  144.0 0.550   0.4091\n",
      "5          895 0.338 0.2526 0.437 non-CC 275  244.6  285.8 0.283  -0.0303\n",
      "6          951 0.283 0.1795 0.394 non-CC 281  222.3  313.5 0.429   0.2713\n",
      "7          997 0.787 0.6808 0.901     CC  99   78.6  119.0 1.120   0.9632\n",
      "8         1058 0.785 0.6482 0.926     CC 165  132.5  181.7 0.758   0.7015\n",
      "9         1084 0.656 0.5766 0.745     CC 162  127.2  216.1 0.930   0.8612\n",
      "10        1182 0.261 0.1661 0.359     CC 189  154.2  210.8 0.990   0.9064\n",
      "11        1263 0.751 0.6397 0.865 non-CC 279  272.1  287.5 0.442   0.4014\n",
      "12        1278 0.977 0.7666 1.199 non-CC 344  186.3  368.0 0.473   0.3105\n",
      "13        1271 0.556 0.4838 0.629     CC 193  173.5  209.6 0.904   0.8182\n",
      "14        1357 0.997 0.7974 1.211 non-CC 304  251.9  332.3 0.616   0.5038\n",
      "15        1380 0.510 0.4137 0.609 non-CC 407  339.6  452.5 0.566   0.4806\n",
      "16        1404 0.504 0.4365 0.573     CC 190  181.9  207.6 1.033   0.9707\n",
      "17        1476 0.394 0.2864 0.503 non-CC 528  492.4  547.3 0.478   0.3844\n",
      "18        1478 0.601 0.5338 0.670     CC 257  208.1  276.5 0.902   0.8215\n",
      "19        1587 0.260 0.0339 0.482 non-CC 427  370.6  481.7 0.449   0.3423\n",
      "20        1523 0.440 0.3684 0.513 non-CC 295  276.6  313.7 0.944   0.7784\n",
      "   index.up\n",
      "1     1.108\n",
      "2     1.215\n",
      "3     0.466\n",
      "4     0.629\n",
      "5     0.388\n",
      "6     0.695\n",
      "7     1.343\n",
      "8     0.843\n",
      "9     1.248\n",
      "10    1.324\n",
      "11    0.485\n",
      "12    0.945\n",
      "13    1.048\n",
      "14    0.916\n",
      "15    0.734\n",
      "16    1.239\n",
      "17    0.569\n",
      "18    1.111\n",
      "19    0.594\n",
      "20    1.001\n"
     ]
    }
   ],
   "source": [
    "print(a)"
   ]
  },
  {
   "cell_type": "code",
   "execution_count": 44,
   "metadata": {},
   "outputs": [
    {
     "data": {
      "text/plain": [
       "\n",
       "    CC non-CC \n",
       "     9     11 "
      ]
     },
     "metadata": {},
     "output_type": "display_data"
    }
   ],
   "source": [
    "table(a$cctype)                   # count numbers in each cctype category"
   ]
  },
  {
   "cell_type": "code",
   "execution_count": 45,
   "metadata": {},
   "outputs": [
    {
     "data": {
      "text/plain": [
       "        \n",
       "         I S\n",
       "  CC     2 7\n",
       "  non-CC 8 3"
      ]
     },
     "metadata": {},
     "output_type": "display_data"
    }
   ],
   "source": [
    "table(a$cctype, a$det)            # 2-way table"
   ]
  },
  {
   "cell_type": "code",
   "execution_count": 46,
   "metadata": {},
   "outputs": [
    {
     "data": {
      "text/plain": [
       "        det\n",
       "cctype   I S\n",
       "  CC     2 7\n",
       "  non-CC 8 3"
      ]
     },
     "metadata": {},
     "output_type": "display_data"
    }
   ],
   "source": [
    "xtabs(~ cctype + det, data=a)     # alternative (formula) syntax"
   ]
  },
  {
   "cell_type": "code",
   "execution_count": 47,
   "metadata": {},
   "outputs": [
    {
     "data": {
      "text/html": [
       "<table>\n",
       "<thead><tr><th></th><th scope=col>I</th><th scope=col>S</th><th scope=col>Sum</th></tr></thead>\n",
       "<tbody>\n",
       "\t<tr><th scope=row>CC</th><td> 2</td><td> 7</td><td> 9</td></tr>\n",
       "\t<tr><th scope=row>non-CC</th><td> 8</td><td> 3</td><td>11</td></tr>\n",
       "\t<tr><th scope=row>Sum</th><td>10</td><td>10</td><td>20</td></tr>\n",
       "</tbody>\n",
       "</table>\n"
      ],
      "text/latex": [
       "\\begin{tabular}{r|lll}\n",
       "  & I & S & Sum\\\\\n",
       "\\hline\n",
       "\tCC &  2 &  7 &  9\\\\\n",
       "\tnon-CC &  8 &  3 & 11\\\\\n",
       "\tSum & 10 & 10 & 20\\\\\n",
       "\\end{tabular}\n"
      ],
      "text/markdown": [
       "\n",
       "| <!--/--> | I | S | Sum | \n",
       "|---|---|---|\n",
       "| CC |  2 |  7 |  9 | \n",
       "| non-CC |  8 |  3 | 11 | \n",
       "| Sum | 10 | 10 | 20 | \n",
       "\n",
       "\n"
      ],
      "text/plain": [
       "        det\n",
       "cctype   I  S  Sum\n",
       "  CC      2  7  9 \n",
       "  non-CC  8  3 11 \n",
       "  Sum    10 10 20 "
      ]
     },
     "metadata": {},
     "output_type": "display_data"
    }
   ],
   "source": [
    "addmargins(xtabs(~ cctype + det, data=a))   # add row/col summary (default is sum)"
   ]
  },
  {
   "cell_type": "code",
   "execution_count": 48,
   "metadata": {},
   "outputs": [
    {
     "data": {
      "text/plain": [
       "        det\n",
       "cctype      I    S\n",
       "  CC     0.10 0.35\n",
       "  non-CC 0.40 0.15"
      ]
     },
     "metadata": {},
     "output_type": "display_data"
    }
   ],
   "source": [
    "prop.table(xtabs(~ cctype + det, data=a))   # show counts as proportions of total"
   ]
  },
  {
   "cell_type": "code",
   "execution_count": 49,
   "metadata": {},
   "outputs": [
    {
     "data": {
      "text/plain": [
       "\n",
       "\tPearson's Chi-squared test with simulated p-value (based on 2000\n",
       "\treplicates)\n",
       "\n",
       "data:  xtabs(~det + cctype, data = a)\n",
       "X-squared = 5.0505, df = NA, p-value = 0.07696\n"
      ]
     },
     "metadata": {},
     "output_type": "display_data"
    }
   ],
   "source": [
    "chisq.test(xtabs(~ det + cctype, data=a), simulate.p.value=TRUE) #Mostrando que não são independentes e há interação"
   ]
  },
  {
   "cell_type": "markdown",
   "metadata": {},
   "source": [
    "# Testes de normalidade"
   ]
  },
  {
   "cell_type": "code",
   "execution_count": 50,
   "metadata": {},
   "outputs": [],
   "source": [
    "x<-read.csv(\"2.1 Teste de Normalidade.csv\", header = TRUE, sep = \";\")\n",
    "x<-as.data.frame(x)"
   ]
  },
  {
   "cell_type": "code",
   "execution_count": 51,
   "metadata": {},
   "outputs": [
    {
     "name": "stdout",
     "output_type": "stream",
     "text": [
      "    X Diametro\n",
      "1   1     1.40\n",
      "2   2     1.57\n",
      "3   3     1.97\n",
      "4   4     1.99\n",
      "5   5     1.93\n",
      "6   6     1.99\n",
      "7   7     1.57\n",
      "8   8     1.80\n",
      "9   9     1.60\n",
      "10 10     1.49\n",
      "11 11     1.80\n",
      "12 12     1.79\n",
      "13 13     1.77\n",
      "14 14     2.06\n",
      "15 15     2.15\n",
      "16 16     1.59\n",
      "17 17     1.62\n",
      "18 18     1.99\n",
      "19 19     1.70\n",
      "20 20     1.75\n",
      "21 21     1.80\n",
      "22 22     1.63\n",
      "23 23     1.21\n",
      "24 24     1.55\n",
      "25 25     1.90\n",
      "26 26     1.55\n",
      "27 27     1.67\n",
      "28 28     1.95\n",
      "29 29     1.39\n",
      "30 30     1.61\n",
      "31 31     2.00\n",
      "32 32     1.64\n",
      "33 33     1.83\n",
      "34 34     1.82\n",
      "35 35     1.87\n",
      "36 36     1.86\n",
      "37 37     1.63\n",
      "38 38     1.76\n",
      "39 39     1.83\n",
      "40 40     1.84\n",
      "41 41     1.92\n",
      "42 42     1.71\n",
      "43 43     1.87\n",
      "44 44     1.88\n",
      "45 45     1.84\n",
      "46 46     1.89\n",
      "47 47     2.15\n",
      "48 48     1.34\n",
      "49 49     1.38\n",
      "50 50     1.67\n"
     ]
    }
   ],
   "source": [
    "print(x)"
   ]
  },
  {
   "cell_type": "code",
   "execution_count": 52,
   "metadata": {},
   "outputs": [],
   "source": [
    "my_data<-x"
   ]
  },
  {
   "cell_type": "code",
   "execution_count": 53,
   "metadata": {},
   "outputs": [],
   "source": [
    "my_data<-my_data[, c(2)]"
   ]
  },
  {
   "cell_type": "code",
   "execution_count": 54,
   "metadata": {},
   "outputs": [
    {
     "name": "stdout",
     "output_type": "stream",
     "text": [
      " [1] 1.40 1.57 1.97 1.99 1.93 1.99 1.57 1.80 1.60 1.49 1.80 1.79 1.77 2.06 2.15\n",
      "[16] 1.59 1.62 1.99 1.70 1.75 1.80 1.63 1.21 1.55 1.90 1.55 1.67 1.95 1.39 1.61\n",
      "[31] 2.00 1.64 1.83 1.82 1.87 1.86 1.63 1.76 1.83 1.84 1.92 1.71 1.87 1.88 1.84\n",
      "[46] 1.89 2.15 1.34 1.38 1.67\n"
     ]
    }
   ],
   "source": [
    "print(my_data)"
   ]
  },
  {
   "cell_type": "code",
   "execution_count": 55,
   "metadata": {},
   "outputs": [],
   "source": [
    "my_data<- data.frame(my_data)"
   ]
  },
  {
   "cell_type": "code",
   "execution_count": 56,
   "metadata": {},
   "outputs": [
    {
     "name": "stdout",
     "output_type": "stream",
     "text": [
      "   my_data\n",
      "1     1.40\n",
      "2     1.57\n",
      "3     1.97\n",
      "4     1.99\n",
      "5     1.93\n",
      "6     1.99\n",
      "7     1.57\n",
      "8     1.80\n",
      "9     1.60\n",
      "10    1.49\n",
      "11    1.80\n",
      "12    1.79\n",
      "13    1.77\n",
      "14    2.06\n",
      "15    2.15\n",
      "16    1.59\n",
      "17    1.62\n",
      "18    1.99\n",
      "19    1.70\n",
      "20    1.75\n",
      "21    1.80\n",
      "22    1.63\n",
      "23    1.21\n",
      "24    1.55\n",
      "25    1.90\n",
      "26    1.55\n",
      "27    1.67\n",
      "28    1.95\n",
      "29    1.39\n",
      "30    1.61\n",
      "31    2.00\n",
      "32    1.64\n",
      "33    1.83\n",
      "34    1.82\n",
      "35    1.87\n",
      "36    1.86\n",
      "37    1.63\n",
      "38    1.76\n",
      "39    1.83\n",
      "40    1.84\n",
      "41    1.92\n",
      "42    1.71\n",
      "43    1.87\n",
      "44    1.88\n",
      "45    1.84\n",
      "46    1.89\n",
      "47    2.15\n",
      "48    1.34\n",
      "49    1.38\n",
      "50    1.67\n"
     ]
    }
   ],
   "source": [
    "print(my_data)"
   ]
  },
  {
   "cell_type": "code",
   "execution_count": 60,
   "metadata": {},
   "outputs": [],
   "source": [
    "library(\"dplyr\")\n",
    "library(\"ggpubr\")"
   ]
  },
  {
   "cell_type": "code",
   "execution_count": 62,
   "metadata": {},
   "outputs": [],
   "source": [
    "my_data<-x"
   ]
  },
  {
   "cell_type": "code",
   "execution_count": 63,
   "metadata": {},
   "outputs": [
    {
     "data": {},
     "metadata": {},
     "output_type": "display_data"
    },
    {
     "data": {
      "image/png": "[encoded data removed]",
      "text/plain": [
       "plot without title"
      ]
     },
     "metadata": {},
     "output_type": "display_data"
    }
   ],
   "source": [
    "ggdensity(my_data$Diametro,main = \"Diametro\",xlab = \"Peca\")"
   ]
  },
  {
   "cell_type": "code",
   "execution_count": 64,
   "metadata": {},
   "outputs": [
    {
     "data": {},
     "metadata": {},
     "output_type": "display_data"
    },
    {
     "data": {
      "image/png": "[encoded data removed]",
      "text/plain": [
       "plot without title"
      ]
     },
     "metadata": {},
     "output_type": "display_data"
    }
   ],
   "source": [
    "ggqqplot(my_data$Diametro)"
   ]
  },
  {
   "cell_type": "code",
   "execution_count": 65,
   "metadata": {},
   "outputs": [],
   "source": [
    "my_data<-read.csv(\"2.2 Teste de Normalidade.csv\", header = TRUE, sep = \";\", dec=\".\")"
   ]
  },
  {
   "cell_type": "code",
   "execution_count": 66,
   "metadata": {},
   "outputs": [],
   "source": [
    "my_data<-my_data[,1]"
   ]
  },
  {
   "cell_type": "code",
   "execution_count": 67,
   "metadata": {},
   "outputs": [
    {
     "data": {
      "image/png": "[encoded data removed]",
      "text/plain": [
       "Plot with title \"Histogram of my_data\""
      ]
     },
     "metadata": {},
     "output_type": "display_data"
    }
   ],
   "source": [
    "hist(my_data)"
   ]
  },
  {
   "cell_type": "code",
   "execution_count": 68,
   "metadata": {},
   "outputs": [
    {
     "data": {},
     "metadata": {},
     "output_type": "display_data"
    },
    {
     "data": {},
     "metadata": {},
     "output_type": "display_data"
    },
    {
     "data": {
      "image/png": "[encoded data removed]",
      "text/plain": [
       "plot without title"
      ]
     },
     "metadata": {},
     "output_type": "display_data"
    },
    {
     "data": {
      "image/png": "[encoded data removed]",
      "text/plain": [
       "plot without title"
      ]
     },
     "metadata": {},
     "output_type": "display_data"
    }
   ],
   "source": [
    "ggdensity(my_data,main = \"Diametro\",xlab = \"Peca\")\n",
    "ggqqplot(my_data)"
   ]
  },
  {
   "cell_type": "code",
   "execution_count": 69,
   "metadata": {},
   "outputs": [
    {
     "data": {
      "text/plain": [
       "\n",
       "\tShapiro-Wilk normality test\n",
       "\n",
       "data:  my_data\n",
       "W = 0.97904, p-value = 0.5123\n"
      ]
     },
     "metadata": {},
     "output_type": "display_data"
    }
   ],
   "source": [
    "shapiro.test(my_data) # p-valor>0.05 se assume normalidade"
   ]
  },
  {
   "cell_type": "code",
   "execution_count": 74,
   "metadata": {},
   "outputs": [],
   "source": [
    "library(\"nortest\")"
   ]
  },
  {
   "cell_type": "code",
   "execution_count": 75,
   "metadata": {},
   "outputs": [
    {
     "data": {
      "text/plain": [
       "\n",
       "\tAnderson-Darling normality test\n",
       "\n",
       "data:  my_data\n",
       "A = 0.36023, p-value = 0.4347\n"
      ]
     },
     "metadata": {},
     "output_type": "display_data"
    }
   ],
   "source": [
    "ad.test(my_data)"
   ]
  },
  {
   "cell_type": "code",
   "execution_count": 77,
   "metadata": {},
   "outputs": [
    {
     "name": "stderr",
     "output_type": "stream",
     "text": [
      "Installing package into 'C:/Users/pedro/Documents/R/win-library/3.4'\n",
      "(as 'lib' is unspecified)\n",
      "also installing the dependencies 'Matrix', 'expint', 'DistributionUtils', 'RUnit', 'survival', 'actuar', 'rgenoud', 'mc2d', 'gamlss.dist', 'knitcitations', 'GeneralizedHyperbolic'\n",
      "\n"
     ]
    },
    {
     "name": "stdout",
     "output_type": "stream",
     "text": [
      "package 'Matrix' successfully unpacked and MD5 sums checked\n",
      "package 'expint' successfully unpacked and MD5 sums checked\n",
      "package 'DistributionUtils' successfully unpacked and MD5 sums checked\n",
      "package 'RUnit' successfully unpacked and MD5 sums checked\n",
      "package 'survival' successfully unpacked and MD5 sums checked\n",
      "package 'actuar' successfully unpacked and MD5 sums checked\n",
      "package 'rgenoud' successfully unpacked and MD5 sums checked\n",
      "package 'mc2d' successfully unpacked and MD5 sums checked\n",
      "package 'gamlss.dist' successfully unpacked and MD5 sums checked\n",
      "package 'knitcitations' successfully unpacked and MD5 sums checked\n",
      "package 'GeneralizedHyperbolic' successfully unpacked and MD5 sums checked\n",
      "package 'fitdistrplus' successfully unpacked and MD5 sums checked\n",
      "\n",
      "The downloaded binary packages are in\n",
      "\tC:\\Users\\pedro\\AppData\\Local\\Temp\\RtmpKQtGDi\\downloaded_packages\n"
     ]
    }
   ],
   "source": [
    "install.packages(\"fitdistrplus\", dependencies = TRUE)\n"
   ]
  },
  {
   "cell_type": "code",
   "execution_count": 78,
   "metadata": {},
   "outputs": [
    {
     "name": "stderr",
     "output_type": "stream",
     "text": [
      "Loading required package: MASS\n",
      "\n",
      "Attaching package: 'MASS'\n",
      "\n",
      "The following object is masked from 'package:dplyr':\n",
      "\n",
      "    select\n",
      "\n",
      "Loading required package: survival\n"
     ]
    }
   ],
   "source": [
    "library(\"fitdistrplus\")"
   ]
  },
  {
   "cell_type": "code",
   "execution_count": 79,
   "metadata": {},
   "outputs": [
    {
     "data": {
      "image/png": "[encoded data removed]",
      "text/plain": [
       "Plot with title \"Cumulative distribution\""
      ]
     },
     "metadata": {},
     "output_type": "display_data"
    }
   ],
   "source": [
    "plotdist(my_data, histo = TRUE, demp = TRUE)"
   ]
  },
  {
   "cell_type": "code",
   "execution_count": 80,
   "metadata": {},
   "outputs": [
    {
     "data": {
      "text/plain": [
       "summary statistics\n",
       "------\n",
       "min:  1.21   max:  2.15 \n",
       "median:  1.795 \n",
       "mean:  1.7504 \n",
       "estimated sd:  0.2093718 \n",
       "estimated skewness:  -0.398716 \n",
       "estimated kurtosis:  2.911171 "
      ]
     },
     "metadata": {},
     "output_type": "display_data"
    },
    {
     "data": {
      "image/png": "[encoded data removed]",
      "text/plain": [
       "Plot with title \"Cullen and Frey graph\""
      ]
     },
     "metadata": {},
     "output_type": "display_data"
    }
   ],
   "source": [
    "descdist(my_data, boot = 1000)"
   ]
  },
  {
   "cell_type": "code",
   "execution_count": 81,
   "metadata": {},
   "outputs": [],
   "source": [
    "fw <- fitdist(my_data, \"weibull\")"
   ]
  },
  {
   "cell_type": "code",
   "execution_count": 82,
   "metadata": {},
   "outputs": [
    {
     "data": {
      "text/plain": [
       "Fitting of the distribution ' weibull ' by maximum likelihood \n",
       "Parameters : \n",
       "      estimate Std. Error\n",
       "shape 9.854854 1.07747042\n",
       "scale 1.840243 0.02785474\n",
       "Loglikelihood:  8.472944   AIC:  -12.94589   BIC:  -9.121842 \n",
       "Correlation matrix:\n",
       "          shape     scale\n",
       "shape 1.0000000 0.3181293\n",
       "scale 0.3181293 1.0000000\n"
      ]
     },
     "metadata": {},
     "output_type": "display_data"
    }
   ],
   "source": [
    "summary(fw)"
   ]
  },
  {
   "cell_type": "code",
   "execution_count": 83,
   "metadata": {},
   "outputs": [],
   "source": [
    "fg <- fitdist(my_data, \"gamma\")\n",
    "fln <- fitdist(my_data, \"lnorm\")\n",
    "par(mfrow = c(2, 2))"
   ]
  },
  {
   "cell_type": "code",
   "execution_count": 84,
   "metadata": {},
   "outputs": [],
   "source": [
    "plot.legend <- c(\"Weibull\", \"lognormal\", \"gamma\")"
   ]
  },
  {
   "cell_type": "code",
   "execution_count": 85,
   "metadata": {},
   "outputs": [
    {
     "data": {
      "image/png": "[encoded data removed]",
      "text/plain": [
       "Plot with title \"Histogram and theoretical densities\""
      ]
     },
     "metadata": {},
     "output_type": "display_data"
    }
   ],
   "source": [
    "denscomp(list(fw, fln, fg), legendtext = plot.legend)"
   ]
  },
  {
   "cell_type": "code",
   "execution_count": 86,
   "metadata": {},
   "outputs": [
    {
     "data": {
      "image/png": "[encoded data removed]",
      "text/plain": [
       "Plot with title \"Q-Q plot\""
      ]
     },
     "metadata": {},
     "output_type": "display_data"
    }
   ],
   "source": [
    "qqcomp(list(fw, fln, fg), legendtext = plot.legend)"
   ]
  },
  {
   "cell_type": "code",
   "execution_count": 87,
   "metadata": {},
   "outputs": [
    {
     "data": {
      "image/png": "[encoded data removed]",
      "text/plain": [
       "Plot with title \"Empirical and theoretical CDFs\""
      ]
     },
     "metadata": {},
     "output_type": "display_data"
    }
   ],
   "source": [
    "cdfcomp(list(fw, fln, fg), legendtext = plot.legend)"
   ]
  },
  {
   "cell_type": "code",
   "execution_count": 88,
   "metadata": {},
   "outputs": [
    {
     "data": {
      "image/png": "[encoded data removed]",
      "text/plain": [
       "Plot with title \"P-P plot\""
      ]
     },
     "metadata": {},
     "output_type": "display_data"
    }
   ],
   "source": [
    "ppcomp(list(fw, fln, fg), legendtext = plot.legend)"
   ]
  },
  {
   "cell_type": "markdown",
   "metadata": {},
   "source": [
    "# Agora vamos efetivamente investigar o pacote sixsigma"
   ]
  },
  {
   "cell_type": "code",
   "execution_count": 92,
   "metadata": {},
   "outputs": [],
   "source": [
    "library(\"SixSigma\") "
   ]
  },
  {
   "cell_type": "code",
   "execution_count": 101,
   "metadata": {
    "collapsed": true
   },
   "outputs": [
    {
     "data": {
      "text/html": [
       "<table>\n",
       "<thead><tr><th scope=col>Yield</th><th scope=col>FTY</th><th scope=col>RTY</th><th scope=col>DPU</th><th scope=col>DPMO</th></tr></thead>\n",
       "<tbody>\n",
       "\t<tr><td>0.9999896</td><td>0.9999859</td><td>0.9999859</td><td>20       </td><td>10.44386 </td></tr>\n",
       "</tbody>\n",
       "</table>\n"
      ],
      "text/latex": [
       "\\begin{tabular}{r|lllll}\n",
       " Yield & FTY & RTY & DPU & DPMO\\\\\n",
       "\\hline\n",
       "\t 0.9999896 & 0.9999859 & 0.9999859 & 20        & 10.44386 \\\\\n",
       "\\end{tabular}\n"
      ],
      "text/markdown": [
       "\n",
       "Yield | FTY | RTY | DPU | DPMO | \n",
       "|---|\n",
       "| 0.9999896 | 0.9999859 | 0.9999859 | 20        | 10.44386  | \n",
       "\n",
       "\n"
      ],
      "text/plain": [
       "  Yield     FTY       RTY       DPU DPMO    \n",
       "1 0.9999896 0.9999859 0.9999859 20  10.44386"
      ]
     },
     "metadata": {},
     "output_type": "display_data"
    }
   ],
   "source": [
    "ss.ca.yield(c(3,5,12),c(1,2,4),1915) #ss.ca.yield(defects = 0, rework = 0, opportunities = 1) Arguments\n",
    "#defects\n",
    "#A vector with the number of defects in each product/batch, ...\n",
    "\n",
    "#rework\n",
    "#A vector with the number of items/parts reworked\n",
    "\n",
    "#opportunities\n",
    "#A numeric value with the size or length of the product/batch\n",
    "#Yield\n",
    "#Number of good stuff / Total items\n",
    "\n",
    "#FTY\n",
    "#(Total - scrap - rework) / Total\n",
    "\n",
    "#RTY\n",
    "#prod(FTY)\n",
    "\n",
    "#DPMO\n",
    "#Defects per Million Opportunities"
   ]
  },
  {
   "cell_type": "code",
   "execution_count": 102,
   "metadata": {},
   "outputs": [
    {
     "data": {
      "text/html": [
       "1.58413633507089"
      ],
      "text/latex": [
       "1.58413633507089"
      ],
      "text/markdown": [
       "1.58413633507089"
      ],
      "text/plain": [
       "[1] 1.584136"
      ]
     },
     "metadata": {},
     "output_type": "display_data"
    }
   ],
   "source": [
    "#ss.ca.z Capability Indices -ss.data.ca = Data for a filling process in a winery. The only field of the data is the volume measured in 20 bottles.\n",
    "ss.ca.cp(ss.data.ca$Volume,740, 760) #"
   ]
  },
  {
   "cell_type": "code",
   "execution_count": 106,
   "metadata": {},
   "outputs": [
    {
     "name": "stdout",
     "output_type": "stream",
     "text": [
      " [1] 755.81 750.54 751.05 749.52 749.21 748.38 748.11 753.07 749.56 750.08\n",
      "[11] 747.16 747.53 749.22 746.76 747.64 750.46 749.27 750.33 750.26 751.29\n"
     ]
    }
   ],
   "source": [
    "print(ss.data.ca$Volume)"
   ]
  },
  {
   "cell_type": "code",
   "execution_count": 107,
   "metadata": {},
   "outputs": [
    {
     "data": {
      "text/html": [
       "1.54651309711296"
      ],
      "text/latex": [
       "1.54651309711296"
      ],
      "text/markdown": [
       "1.54651309711296"
      ],
      "text/plain": [
       "[1] 1.546513"
      ]
     },
     "metadata": {},
     "output_type": "display_data"
    }
   ],
   "source": [
    "ss.ca.cpk(ss.data.ca$Volume,740, 760)"
   ]
  },
  {
   "cell_type": "code",
   "execution_count": 108,
   "metadata": {},
   "outputs": [
    {
     "data": {
      "text/html": [
       "3.13953929133888"
      ],
      "text/latex": [
       "3.13953929133888"
      ],
      "text/markdown": [
       "3.13953929133888"
      ],
      "text/plain": [
       "[1] 3.139539"
      ]
     },
     "metadata": {},
     "output_type": "display_data"
    }
   ],
   "source": [
    "ss.ca.z(ss.data.ca$Volume,740,760)"
   ]
  },
  {
   "cell_type": "code",
   "execution_count": 109,
   "metadata": {},
   "outputs": [
    {
     "name": "stdout",
     "output_type": "stream",
     "text": [
      "Phase I limits:\n",
      "     LCL       CL      UCL \n",
      "0.000000 1.569483 5.126767 \n",
      "\n",
      "Out of control Moving Range:\n",
      "None\n"
     ]
    },
    {
     "data": {
      "image/png": "[encoded data removed]",
      "text/plain": [
       "plot without title"
      ]
     },
     "metadata": {},
     "output_type": "display_data"
    }
   ],
   "source": [
    "#ss.cc Control Charts\n",
    "ss.cc(\"mr\", ss.data.pb1, CTQ = \"pb.humidity\")"
   ]
  },
  {
   "cell_type": "code",
   "execution_count": 112,
   "metadata": {},
   "outputs": [
    {
     "name": "stdout",
     "output_type": "stream",
     "text": [
      "   pb.group pb.humidity\n",
      "1         1   12.753311\n",
      "2         2   14.014355\n",
      "3         3   11.644866\n",
      "4         4   14.028168\n",
      "5         5    9.783126\n",
      "6         6   12.758396\n",
      "7         7   10.693815\n",
      "8         8   11.197480\n",
      "9         9   10.207759\n",
      "10       10   11.957968\n",
      "11       11   14.150043\n",
      "12       12   10.229769\n",
      "13       13   12.864654\n",
      "14       14   10.279844\n",
      "15       15   12.134126\n",
      "16       16   11.924173\n",
      "17       17   12.858301\n",
      "18       18   12.344900\n",
      "19       19   11.417547\n",
      "20       20   12.786170\n",
      "21       21   11.307901\n",
      "22       22   10.816956\n",
      "23       23   13.268851\n",
      "24       24   11.687448\n",
      "25       25   12.030571\n",
      "26       26   10.517725\n",
      "27       27   10.873352\n",
      "28       28   10.236157\n",
      "29       29   10.937381\n",
      "30       30   10.657001\n"
     ]
    }
   ],
   "source": [
    "print(ss.data.pb1)"
   ]
  },
  {
   "cell_type": "code",
   "execution_count": 118,
   "metadata": {},
   "outputs": [
    {
     "name": "stdout",
     "output_type": "stream",
     "text": [
      "Phase I limits:\n",
      "     LCL       CL      UCL \n",
      "0.000000 1.768871 5.778072 \n",
      "\n",
      "Out of control Moving Range:\n",
      "[1] 29\n"
     ]
    },
    {
     "data": {
      "image/png": "[encoded data removed]",
      "text/plain": [
       "plot without title"
      ]
     },
     "metadata": {},
     "output_type": "display_data"
    }
   ],
   "source": [
    "testout <- ss.data.pb1\n",
    "testout[31,] <- list(31,17)\n",
    "ss.cc(\"mr\", testout, CTQ = \"pb.humidity\")"
   ]
  },
  {
   "cell_type": "code",
   "execution_count": 119,
   "metadata": {},
   "outputs": [
    {
     "data": {
      "text/html": [
       "<strong>d2:</strong> 3.73494927489258"
      ],
      "text/latex": [
       "\\textbf{d2:} 3.73494927489258"
      ],
      "text/markdown": [
       "**d2:** 3.73494927489258"
      ],
      "text/plain": [
       "      d2 \n",
       "3.734949 "
      ]
     },
     "metadata": {},
     "output_type": "display_data"
    },
    {
     "data": {
      "text/html": [
       "<strong>d3:</strong> 0.728690798649158"
      ],
      "text/latex": [
       "\\textbf{d3:} 0.728690798649158"
      ],
      "text/markdown": [
       "**d3:** 0.728690798649158"
      ],
      "text/plain": [
       "       d3 \n",
       "0.7286908 "
      ]
     },
     "metadata": {},
     "output_type": "display_data"
    },
    {
     "data": {
      "text/html": [
       "<strong>c4:</strong> 0.986934267524655"
      ],
      "text/latex": [
       "\\textbf{c4:} 0.986934267524655"
      ],
      "text/markdown": [
       "**c4:** 0.986934267524655"
      ],
      "text/plain": [
       "       c4 \n",
       "0.9869343 "
      ]
     },
     "metadata": {},
     "output_type": "display_data"
    }
   ],
   "source": [
    "#ss.cc.constants Functions to find out constants of the relative range distribution.\n",
    "ss.cc.getd2(20)\n",
    "ss.cc.getd3(20)\n",
    "ss.cc.getc4(20)"
   ]
  },
  {
   "cell_type": "markdown",
   "metadata": {},
   "source": [
    "# Diagrama de causa e efeito"
   ]
  },
  {
   "cell_type": "code",
   "execution_count": 120,
   "metadata": {},
   "outputs": [
    {
     "data": {
      "image/png": "[encoded data removed]",
      "text/plain": [
       "plot without title"
      ]
     },
     "metadata": {},
     "output_type": "display_data"
    }
   ],
   "source": [
    "#ss.ceDiag Cause and Effect Diagram\n",
    "effect <- \"Flight Time\"\n",
    "causes.gr <- c(\"Operator\", \"Environment\", \"Tools\", \"Design\",\n",
    "               \"Raw.Material\", \"Measure.Tool\")\n",
    "causes <- vector(mode = \"list\", length = length(causes.gr))\n",
    "causes[1] <- list(c(\"operator #1\", \"operator #2\", \"operator #3\"))\n",
    "causes[2] <- list(c(\"height\", \"cleaning\"))\n",
    "causes[3] <- list(c(\"scissors\", \"tape\"))\n",
    "causes[4] <- list(c(\"rotor.length\", \"rotor.width2\", \"paperclip\"))\n",
    "causes[5] <- list(c(\"thickness\", \"marks\"))\n",
    "causes[6] <- list(c(\"calibrate\", \"model\"))\n",
    "ss.ceDiag(effect, causes.gr, causes, sub = \"Paper Helicopter Project\")"
   ]
  },
  {
   "cell_type": "code",
   "execution_count": null,
   "metadata": {},
   "outputs": [],
   "source": []
  }
 ],
 "metadata": {
  "kernelspec": {
   "display_name": "R",
   "language": "R",
   "name": "ir"
  },
  "language_info": {
   "codemirror_mode": "r",
   "file_extension": ".r",
   "mimetype": "text/x-r-source",
   "name": "R",
   "pygments_lexer": "r",
   "version": "3.4.3"
  }
 },
 "nbformat": 4,
 "nbformat_minor": 2
}

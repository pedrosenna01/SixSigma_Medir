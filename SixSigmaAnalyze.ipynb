{
 "cells": [
  {
   "cell_type": "code",
   "execution_count": 1,
   "metadata": {},
   "outputs": [
    {
     "name": "stderr",
     "output_type": "stream",
     "text": [
      "Loading required package: devtools\n",
      "Downloading GitHub repo kassambara/ggpubr@master\n",
      "from URL https://api.github.com/repos/kassambara/ggpubr/zipball/master\n",
      "Installing ggpubr\n",
      "Installing 1 package: polynom\n",
      "Installing package into 'C:/Users/pedro/Documents/R/win-library/3.4'\n",
      "(as 'lib' is unspecified)\n"
     ]
    },
    {
     "name": "stdout",
     "output_type": "stream",
     "text": [
      "package 'polynom' successfully unpacked and MD5 sums checked\n",
      "\n",
      "The downloaded binary packages are in\n",
      "\tC:\\Users\\pedro\\AppData\\Local\\Temp\\RtmpkXyCeD\\downloaded_packages\n"
     ]
    },
    {
     "name": "stderr",
     "output_type": "stream",
     "text": [
      "\"C:/Users/pedro/Anaconda3/lib/R/bin/x64/R\" --no-site-file --no-environ  \\\n",
      "  --no-save --no-restore --quiet CMD INSTALL  \\\n",
      "  \"C:/Users/pedro/AppData/Local/Temp/RtmpkXyCeD/devtoolsb08cd5609/kassambara-ggpubr-adae314\"  \\\n",
      "  --library=\"C:/Users/pedro/Documents/R/win-library/3.4\" --install-tests \n",
      "\n"
     ]
    }
   ],
   "source": [
    "if(!require(devtools)) install.packages(\"devtools\")\n",
    "devtools::install_github(\"kassambara/ggpubr\")"
   ]
  },
  {
   "cell_type": "code",
   "execution_count": 5,
   "metadata": {},
   "outputs": [
    {
     "name": "stderr",
     "output_type": "stream",
     "text": [
      "Installing package into 'C:/Users/pedro/Documents/R/win-library/3.4'\n",
      "(as 'lib' is unspecified)\n",
      "Warning message:\n",
      "\"package 'ggpubr' is in use and will not be installed\""
     ]
    }
   ],
   "source": [
    "install.packages(\"ggpubr\", dependencies=TRUE)"
   ]
  },
  {
   "cell_type": "code",
   "execution_count": 3,
   "metadata": {},
   "outputs": [
    {
     "name": "stderr",
     "output_type": "stream",
     "text": [
      "Loading required package: ggplot2\n",
      "Loading required package: magrittr\n"
     ]
    }
   ],
   "source": [
    "library(\"ggpubr\")"
   ]
  },
  {
   "cell_type": "code",
   "execution_count": 11,
   "metadata": {},
   "outputs": [
    {
     "name": "stdout",
     "output_type": "stream",
     "text": [
      "   Viscosidade..Cp. Temperatura\n",
      "1          2.394955    112.0000\n",
      "2          2.390956    119.4118\n",
      "3          2.274826    121.0928\n",
      "4          2.248343    122.0000\n",
      "5          2.126766    125.0000\n",
      "6          2.124524    130.0000\n",
      "7          2.119584    133.6053\n",
      "8          2.097782    134.0000\n",
      "9          2.081570    135.5981\n",
      "10         2.071519    140.0000\n",
      "11         2.041287    146.5435\n",
      "12         2.040921    148.0000\n",
      "13         2.032034    148.2451\n",
      "14         2.016654    150.0000\n",
      "15         2.014428    150.0000\n",
      "16         2.009603    151.8322\n",
      "17         2.000131    153.0000\n",
      "18         1.992350    154.1953\n",
      "19         1.963628    154.5266\n",
      "20         1.942853    157.3933\n",
      "21         1.942789    163.0000\n",
      "22         1.933672    165.3259\n",
      "23         1.882910    168.2294\n",
      "24         1.866273    168.4409\n",
      "25         1.826302    172.0000\n",
      "26         1.809837    174.8355\n",
      "27         1.809119    176.7869\n",
      "28         1.745198    180.9119\n",
      "29         1.734898    180.9837\n",
      "30         1.734249    185.0287\n",
      "31         1.703966    189.0000\n",
      "32         1.684409    190.0000\n",
      "33         1.653259    190.0000\n",
      "34         1.639197    196.0000\n",
      "35         1.600162    202.0000\n",
      "36         1.551379    204.0921\n",
      "37         1.545266    204.1287\n",
      "38         1.541953    208.0132\n",
      "39         1.540388    209.7782\n",
      "40         1.535693    210.0000\n",
      "41         1.527864    210.0000\n",
      "42         1.431040    210.0000\n",
      "43         1.391871    210.0000\n",
      "44         1.372549    217.0000\n",
      "45         1.355981    230.0000\n",
      "46         1.309681    240.0000\n"
     ]
    }
   ],
   "source": [
    "my_data<-read.csv(\"3Regressao.csv\", header = TRUE, sep = \";\")\n",
    "print(my_data)"
   ]
  },
  {
   "cell_type": "code",
   "execution_count": 12,
   "metadata": {},
   "outputs": [],
   "source": [
    "y<-my_data[, c(1)]"
   ]
  },
  {
   "cell_type": "code",
   "execution_count": 13,
   "metadata": {},
   "outputs": [],
   "source": [
    "x<-my_data[, c(2)]"
   ]
  },
  {
   "cell_type": "code",
   "execution_count": 15,
   "metadata": {},
   "outputs": [
    {
     "data": {
      "text/html": [
       "-0.98899386437567"
      ],
      "text/latex": [
       "-0.98899386437567"
      ],
      "text/markdown": [
       "-0.98899386437567"
      ],
      "text/plain": [
       "[1] -0.9889939"
      ]
     },
     "metadata": {},
     "output_type": "display_data"
    }
   ],
   "source": [
    "cor(x, y, method = c(\"pearson\"))"
   ]
  },
  {
   "cell_type": "code",
   "execution_count": 16,
   "metadata": {},
   "outputs": [
    {
     "data": {
      "text/html": [
       "-0.996127768612524"
      ],
      "text/latex": [
       "-0.996127768612524"
      ],
      "text/markdown": [
       "-0.996127768612524"
      ],
      "text/plain": [
       "[1] -0.9961278"
      ]
     },
     "metadata": {},
     "output_type": "display_data"
    }
   ],
   "source": [
    "cor(x, y, method = c( \"kendall\"))"
   ]
  },
  {
   "cell_type": "code",
   "execution_count": 17,
   "metadata": {},
   "outputs": [
    {
     "data": {
      "text/html": [
       "-0.999629903762306"
      ],
      "text/latex": [
       "-0.999629903762306"
      ],
      "text/markdown": [
       "-0.999629903762306"
      ],
      "text/plain": [
       "[1] -0.9996299"
      ]
     },
     "metadata": {},
     "output_type": "display_data"
    }
   ],
   "source": [
    "cor(x, y, method = c(\"spearman\"))"
   ]
  },
  {
   "cell_type": "code",
   "execution_count": 18,
   "metadata": {},
   "outputs": [
    {
     "data": {
      "text/plain": [
       "\n",
       "\tPearson's product-moment correlation\n",
       "\n",
       "data:  x and y\n",
       "t = -44.339, df = 44, p-value < 2.2e-16\n",
       "alternative hypothesis: true correlation is not equal to 0\n",
       "95 percent confidence interval:\n",
       " -0.9939313 -0.9800796\n",
       "sample estimates:\n",
       "       cor \n",
       "-0.9889939 \n"
      ]
     },
     "metadata": {},
     "output_type": "display_data"
    }
   ],
   "source": [
    "cor.test(x, y, method=c(\"pearson\"))"
   ]
  },
  {
   "cell_type": "code",
   "execution_count": 19,
   "metadata": {},
   "outputs": [
    {
     "name": "stderr",
     "output_type": "stream",
     "text": [
      "Warning message in cor.test.default(x, y, method = c(\"kendall\")):\n",
      "\"Cannot compute exact p-value with ties\""
     ]
    },
    {
     "data": {
      "text/plain": [
       "\n",
       "\tKendall's rank correlation tau\n",
       "\n",
       "data:  x and y\n",
       "z = -9.7284, p-value < 2.2e-16\n",
       "alternative hypothesis: true tau is not equal to 0\n",
       "sample estimates:\n",
       "       tau \n",
       "-0.9961278 \n"
      ]
     },
     "metadata": {},
     "output_type": "display_data"
    }
   ],
   "source": [
    "cor.test(x, y, method=c(\"kendall\"))"
   ]
  },
  {
   "cell_type": "code",
   "execution_count": 20,
   "metadata": {
    "collapsed": true
   },
   "outputs": [
    {
     "name": "stderr",
     "output_type": "stream",
     "text": [
      "Warning message in cor.test.default(x, y, method = c(\"spearman\")):\n",
      "\"Cannot compute exact p-value with ties\""
     ]
    },
    {
     "data": {
      "text/plain": [
       "\n",
       "\tSpearman's rank correlation rho\n",
       "\n",
       "data:  x and y\n",
       "S = 32424, p-value < 2.2e-16\n",
       "alternative hypothesis: true rho is not equal to 0\n",
       "sample estimates:\n",
       "       rho \n",
       "-0.9996299 \n"
      ]
     },
     "metadata": {},
     "output_type": "display_data"
    }
   ],
   "source": [
    "cor.test(x, y, method=c(\"spearman\"))"
   ]
  },
  {
   "cell_type": "code",
   "execution_count": 25,
   "metadata": {},
   "outputs": [
    {
     "data": {},
     "metadata": {},
     "output_type": "display_data"
    },
    {
     "data": {
      "image/png": "[encoded data removed]",
      "text/plain": [
       "plot without title"
      ]
     },
     "metadata": {},
     "output_type": "display_data"
    }
   ],
   "source": [
    "ggscatter(my_data, x = \"Temperatura\", y = \"Viscosidade..Cp.\", \n",
    "          add = \"reg.line\", conf.int = TRUE, \n",
    "          cor.coef = TRUE, cor.method = \"pearson\",\n",
    "          xlab = \"Temperatura\", ylab = \"Viscosidade\")"
   ]
  },
  {
   "cell_type": "code",
   "execution_count": 27,
   "metadata": {},
   "outputs": [
    {
     "data": {
      "text/plain": [
       "\n",
       "Call:\n",
       "lm(formula = y ~ x, data = my_data)\n",
       "\n",
       "Residuals:\n",
       "      Min        1Q    Median        3Q       Max \n",
       "-0.114280 -0.011306  0.007545  0.019942  0.118857 \n",
       "\n",
       "Coefficients:\n",
       "              Estimate Std. Error t value Pr(>|t|)    \n",
       "(Intercept)  3.2817569  0.0330934   99.17   <2e-16 ***\n",
       "x           -0.0084553  0.0001907  -44.34   <2e-16 ***\n",
       "---\n",
       "Signif. codes:  0 '***' 0.001 '**' 0.01 '*' 0.05 '.' 0.1 ' ' 1\n",
       "\n",
       "Residual standard error: 0.04198 on 44 degrees of freedom\n",
       "Multiple R-squared:  0.9781,\tAdjusted R-squared:  0.9776 \n",
       "F-statistic:  1966 on 1 and 44 DF,  p-value: < 2.2e-16\n"
      ]
     },
     "metadata": {},
     "output_type": "display_data"
    }
   ],
   "source": [
    "fit <- lm(y ~ x, data=my_data)\n",
    "summary(fit) # show results"
   ]
  },
  {
   "cell_type": "code",
   "execution_count": 28,
   "metadata": {},
   "outputs": [
    {
     "data": {
      "text/html": [
       "<dl class=dl-horizontal>\n",
       "\t<dt>(Intercept)</dt>\n",
       "\t\t<dd>3.28175687697922</dd>\n",
       "\t<dt>x</dt>\n",
       "\t\t<dd>-0.00845526760677984</dd>\n",
       "</dl>\n"
      ],
      "text/latex": [
       "\\begin{description*}\n",
       "\\item[(Intercept)] 3.28175687697922\n",
       "\\item[x] -0.00845526760677984\n",
       "\\end{description*}\n"
      ],
      "text/markdown": [
       "(Intercept)\n",
       ":   3.28175687697922x\n",
       ":   -0.00845526760677984\n",
       "\n"
      ],
      "text/plain": [
       " (Intercept)            x \n",
       " 3.281756877 -0.008455268 "
      ]
     },
     "metadata": {},
     "output_type": "display_data"
    }
   ],
   "source": [
    "coefficients(fit) # model coefficients"
   ]
  },
  {
   "cell_type": "code",
   "execution_count": 29,
   "metadata": {},
   "outputs": [
    {
     "data": {
      "text/html": [
       "<table>\n",
       "<thead><tr><th></th><th scope=col>2.5 %</th><th scope=col>97.5 %</th></tr></thead>\n",
       "<tbody>\n",
       "\t<tr><th scope=row>(Intercept)</th><td> 3.21506154 </td><td> 3.348452213</td></tr>\n",
       "\t<tr><th scope=row>x</th><td>-0.00883959 </td><td>-0.008070945</td></tr>\n",
       "</tbody>\n",
       "</table>\n"
      ],
      "text/latex": [
       "\\begin{tabular}{r|ll}\n",
       "  & 2.5 \\% & 97.5 \\%\\\\\n",
       "\\hline\n",
       "\t(Intercept) &  3.21506154  &  3.348452213\\\\\n",
       "\tx & -0.00883959  & -0.008070945\\\\\n",
       "\\end{tabular}\n"
      ],
      "text/markdown": [
       "\n",
       "| <!--/--> | 2.5 % | 97.5 % | \n",
       "|---|---|\n",
       "| (Intercept) |  3.21506154  |  3.348452213 | \n",
       "| x | -0.00883959  | -0.008070945 | \n",
       "\n",
       "\n"
      ],
      "text/plain": [
       "            2.5 %       97.5 %      \n",
       "(Intercept)  3.21506154  3.348452213\n",
       "x           -0.00883959 -0.008070945"
      ]
     },
     "metadata": {},
     "output_type": "display_data"
    }
   ],
   "source": [
    "confint(fit, level=0.95) # CIs for model parameters "
   ]
  },
  {
   "cell_type": "code",
   "execution_count": 30,
   "metadata": {},
   "outputs": [
    {
     "data": {
      "text/html": [
       "<dl class=dl-horizontal>\n",
       "\t<dt>1</dt>\n",
       "\t\t<dd>2.33476690501987</dd>\n",
       "\t<dt>2</dt>\n",
       "\t\t<dd>2.27209853813215</dd>\n",
       "\t<dt>3</dt>\n",
       "\t\t<dd>2.25788496440765</dd>\n",
       "\t<dt>4</dt>\n",
       "\t\t<dd>2.25021422895208</dd>\n",
       "\t<dt>5</dt>\n",
       "\t\t<dd>2.22484842613174</dd>\n",
       "\t<dt>6</dt>\n",
       "\t\t<dd>2.18257208809784</dd>\n",
       "\t<dt>7</dt>\n",
       "\t\t<dd>2.15208817904742</dd>\n",
       "\t<dt>8</dt>\n",
       "\t\t<dd>2.14875101767073</dd>\n",
       "\t<dt>9</dt>\n",
       "\t\t<dd>2.13523896058902</dd>\n",
       "\t<dt>10</dt>\n",
       "\t\t<dd>2.09801941203005</dd>\n",
       "\t<dt>11</dt>\n",
       "\t\t<dd>2.04269202347016</dd>\n",
       "\t<dt>12</dt>\n",
       "\t\t<dd>2.03037727117581</dd>\n",
       "\t<dt>13</dt>\n",
       "\t\t<dd>2.02830518017423</dd>\n",
       "\t<dt>14</dt>\n",
       "\t\t<dd>2.01346673596225</dd>\n",
       "\t<dt>15</dt>\n",
       "\t\t<dd>2.01346673596225</dd>\n",
       "\t<dt>16</dt>\n",
       "\t\t<dd>1.99797473930402</dd>\n",
       "\t<dt>17</dt>\n",
       "\t\t<dd>1.98810093314191</dd>\n",
       "\t<dt>18</dt>\n",
       "\t\t<dd>1.97799450819398</dd>\n",
       "\t<dt>19</dt>\n",
       "\t\t<dd>1.97519319517423</dd>\n",
       "\t<dt>20</dt>\n",
       "\t\t<dd>1.95095417259966</dd>\n",
       "\t<dt>21</dt>\n",
       "\t\t<dd>1.90354825707411</dd>\n",
       "\t<dt>22</dt>\n",
       "\t\t<dd>1.88388256276456</dd>\n",
       "\t<dt>23</dt>\n",
       "\t\t<dd>1.85933188917233</dd>\n",
       "\t<dt>24</dt>\n",
       "\t\t<dd>1.85754440247839</dd>\n",
       "\t<dt>25</dt>\n",
       "\t\t<dd>1.82745084861309</dd>\n",
       "\t<dt>26</dt>\n",
       "\t\t<dd>1.80347630342715</dd>\n",
       "\t<dt>27</dt>\n",
       "\t\t<dd>1.78697616322848</dd>\n",
       "\t<dt>28</dt>\n",
       "\t\t<dd>1.75209859612204</dd>\n",
       "\t<dt>29</dt>\n",
       "\t\t<dd>1.75149118491666</dd>\n",
       "\t<dt>30</dt>\n",
       "\t\t<dd>1.71729001638954</dd>\n",
       "\t<dt>31</dt>\n",
       "\t\t<dd>1.68371129929783</dd>\n",
       "\t<dt>32</dt>\n",
       "\t\t<dd>1.67525603169105</dd>\n",
       "\t<dt>33</dt>\n",
       "\t\t<dd>1.67525603169105</dd>\n",
       "\t<dt>34</dt>\n",
       "\t\t<dd>1.62452442605038</dd>\n",
       "\t<dt>35</dt>\n",
       "\t\t<dd>1.5737928204097</dd>\n",
       "\t<dt>36</dt>\n",
       "\t\t<dd>1.55610318639988</dd>\n",
       "\t<dt>37</dt>\n",
       "\t\t<dd>1.55579424783207</dd>\n",
       "\t<dt>38</dt>\n",
       "\t\t<dd>1.5229500093984</dd>\n",
       "\t<dt>39</dt>\n",
       "\t\t<dd>1.50802587950449</dd>\n",
       "\t<dt>40</dt>\n",
       "\t\t<dd>1.50615067955546</dd>\n",
       "\t<dt>41</dt>\n",
       "\t\t<dd>1.50615067955546</dd>\n",
       "\t<dt>42</dt>\n",
       "\t\t<dd>1.50615067955546</dd>\n",
       "\t<dt>43</dt>\n",
       "\t\t<dd>1.50615067955546</dd>\n",
       "\t<dt>44</dt>\n",
       "\t\t<dd>1.446963806308</dd>\n",
       "\t<dt>45</dt>\n",
       "\t\t<dd>1.33704532741986</dd>\n",
       "\t<dt>46</dt>\n",
       "\t\t<dd>1.25249265135206</dd>\n",
       "</dl>\n"
      ],
      "text/latex": [
       "\\begin{description*}\n",
       "\\item[1] 2.33476690501987\n",
       "\\item[2] 2.27209853813215\n",
       "\\item[3] 2.25788496440765\n",
       "\\item[4] 2.25021422895208\n",
       "\\item[5] 2.22484842613174\n",
       "\\item[6] 2.18257208809784\n",
       "\\item[7] 2.15208817904742\n",
       "\\item[8] 2.14875101767073\n",
       "\\item[9] 2.13523896058902\n",
       "\\item[10] 2.09801941203005\n",
       "\\item[11] 2.04269202347016\n",
       "\\item[12] 2.03037727117581\n",
       "\\item[13] 2.02830518017423\n",
       "\\item[14] 2.01346673596225\n",
       "\\item[15] 2.01346673596225\n",
       "\\item[16] 1.99797473930402\n",
       "\\item[17] 1.98810093314191\n",
       "\\item[18] 1.97799450819398\n",
       "\\item[19] 1.97519319517423\n",
       "\\item[20] 1.95095417259966\n",
       "\\item[21] 1.90354825707411\n",
       "\\item[22] 1.88388256276456\n",
       "\\item[23] 1.85933188917233\n",
       "\\item[24] 1.85754440247839\n",
       "\\item[25] 1.82745084861309\n",
       "\\item[26] 1.80347630342715\n",
       "\\item[27] 1.78697616322848\n",
       "\\item[28] 1.75209859612204\n",
       "\\item[29] 1.75149118491666\n",
       "\\item[30] 1.71729001638954\n",
       "\\item[31] 1.68371129929783\n",
       "\\item[32] 1.67525603169105\n",
       "\\item[33] 1.67525603169105\n",
       "\\item[34] 1.62452442605038\n",
       "\\item[35] 1.5737928204097\n",
       "\\item[36] 1.55610318639988\n",
       "\\item[37] 1.55579424783207\n",
       "\\item[38] 1.5229500093984\n",
       "\\item[39] 1.50802587950449\n",
       "\\item[40] 1.50615067955546\n",
       "\\item[41] 1.50615067955546\n",
       "\\item[42] 1.50615067955546\n",
       "\\item[43] 1.50615067955546\n",
       "\\item[44] 1.446963806308\n",
       "\\item[45] 1.33704532741986\n",
       "\\item[46] 1.25249265135206\n",
       "\\end{description*}\n"
      ],
      "text/markdown": [
       "1\n",
       ":   2.334766905019872\n",
       ":   2.272098538132153\n",
       ":   2.257884964407654\n",
       ":   2.250214228952085\n",
       ":   2.224848426131746\n",
       ":   2.182572088097847\n",
       ":   2.152088179047428\n",
       ":   2.148751017670739\n",
       ":   2.1352389605890210\n",
       ":   2.0980194120300511\n",
       ":   2.0426920234701612\n",
       ":   2.0303772711758113\n",
       ":   2.0283051801742314\n",
       ":   2.0134667359622515\n",
       ":   2.0134667359622516\n",
       ":   1.9979747393040217\n",
       ":   1.9881009331419118\n",
       ":   1.9779945081939819\n",
       ":   1.9751931951742320\n",
       ":   1.9509541725996621\n",
       ":   1.9035482570741122\n",
       ":   1.8838825627645623\n",
       ":   1.8593318891723324\n",
       ":   1.8575444024783925\n",
       ":   1.8274508486130926\n",
       ":   1.8034763034271527\n",
       ":   1.7869761632284828\n",
       ":   1.7520985961220429\n",
       ":   1.7514911849166630\n",
       ":   1.7172900163895431\n",
       ":   1.6837112992978332\n",
       ":   1.6752560316910533\n",
       ":   1.6752560316910534\n",
       ":   1.6245244260503835\n",
       ":   1.573792820409736\n",
       ":   1.5561031863998837\n",
       ":   1.5557942478320738\n",
       ":   1.522950009398439\n",
       ":   1.5080258795044940\n",
       ":   1.5061506795554641\n",
       ":   1.5061506795554642\n",
       ":   1.5061506795554643\n",
       ":   1.5061506795554644\n",
       ":   1.44696380630845\n",
       ":   1.3370453274198646\n",
       ":   1.25249265135206\n",
       "\n"
      ],
      "text/plain": [
       "       1        2        3        4        5        6        7        8 \n",
       "2.334767 2.272099 2.257885 2.250214 2.224848 2.182572 2.152088 2.148751 \n",
       "       9       10       11       12       13       14       15       16 \n",
       "2.135239 2.098019 2.042692 2.030377 2.028305 2.013467 2.013467 1.997975 \n",
       "      17       18       19       20       21       22       23       24 \n",
       "1.988101 1.977995 1.975193 1.950954 1.903548 1.883883 1.859332 1.857544 \n",
       "      25       26       27       28       29       30       31       32 \n",
       "1.827451 1.803476 1.786976 1.752099 1.751491 1.717290 1.683711 1.675256 \n",
       "      33       34       35       36       37       38       39       40 \n",
       "1.675256 1.624524 1.573793 1.556103 1.555794 1.522950 1.508026 1.506151 \n",
       "      41       42       43       44       45       46 \n",
       "1.506151 1.506151 1.506151 1.446964 1.337045 1.252493 "
      ]
     },
     "metadata": {},
     "output_type": "display_data"
    }
   ],
   "source": [
    "fitted(fit) # predicted values"
   ]
  },
  {
   "cell_type": "code",
   "execution_count": 31,
   "metadata": {},
   "outputs": [
    {
     "data": {
      "text/html": [
       "<dl class=dl-horizontal>\n",
       "\t<dt>1</dt>\n",
       "\t\t<dd>0.0601879469801255</dd>\n",
       "\t<dt>2</dt>\n",
       "\t\t<dd>0.118857233867846</dd>\n",
       "\t<dt>3</dt>\n",
       "\t\t<dd>0.0169411825923534</dd>\n",
       "\t<dt>4</dt>\n",
       "\t\t<dd>-0.00187138995208302</dd>\n",
       "\t<dt>5</dt>\n",
       "\t\t<dd>-0.0980821841317437</dd>\n",
       "\t<dt>6</dt>\n",
       "\t\t<dd>-0.0580476210978444</dd>\n",
       "\t<dt>7</dt>\n",
       "\t\t<dd>-0.0325044290474198</dd>\n",
       "\t<dt>8</dt>\n",
       "\t\t<dd>-0.0509688066707251</dd>\n",
       "\t<dt>9</dt>\n",
       "\t\t<dd>-0.0536688455890178</dd>\n",
       "\t<dt>10</dt>\n",
       "\t\t<dd>-0.026499985030046</dd>\n",
       "\t<dt>11</dt>\n",
       "\t\t<dd>-0.00140520747016415</dd>\n",
       "\t<dt>12</dt>\n",
       "\t\t<dd>0.0105441648241926</dd>\n",
       "\t<dt>13</dt>\n",
       "\t\t<dd>0.00372837782577501</dd>\n",
       "\t<dt>14</dt>\n",
       "\t\t<dd>0.00318707103775214</dd>\n",
       "\t<dt>15</dt>\n",
       "\t\t<dd>0.000961483037752191</dd>\n",
       "\t<dt>16</dt>\n",
       "\t\t<dd>0.0116282116959761</dd>\n",
       "\t<dt>17</dt>\n",
       "\t\t<dd>0.0120295978580916</dd>\n",
       "\t<dt>18</dt>\n",
       "\t\t<dd>0.0143552588060249</dd>\n",
       "\t<dt>19</dt>\n",
       "\t\t<dd>-0.0115653851742264</dd>\n",
       "\t<dt>20</dt>\n",
       "\t\t<dd>-0.00810159159965668</dd>\n",
       "\t<dt>21</dt>\n",
       "\t\t<dd>0.0392402459258901</dd>\n",
       "\t<dt>22</dt>\n",
       "\t\t<dd>0.0497892342354398</dd>\n",
       "\t<dt>23</dt>\n",
       "\t\t<dd>0.0235784368276747</dd>\n",
       "\t<dt>24</dt>\n",
       "\t\t<dd>0.00872842252161289</dd>\n",
       "\t<dt>25</dt>\n",
       "\t\t<dd>-0.00114905361309145</dd>\n",
       "\t<dt>26</dt>\n",
       "\t\t<dd>0.00636078657284551</dd>\n",
       "\t<dt>27</dt>\n",
       "\t\t<dd>0.0221425447715213</dd>\n",
       "\t<dt>28</dt>\n",
       "\t\t<dd>-0.00690054812204435</dd>\n",
       "\t<dt>29</dt>\n",
       "\t\t<dd>-0.016592802916655</dd>\n",
       "\t<dt>30</dt>\n",
       "\t\t<dd>0.0169586226104595</dd>\n",
       "\t<dt>31</dt>\n",
       "\t\t<dd>0.0202549657021658</dd>\n",
       "\t<dt>32</dt>\n",
       "\t\t<dd>0.00915248230894559</dd>\n",
       "\t<dt>33</dt>\n",
       "\t\t<dd>-0.0219975196910544</dd>\n",
       "\t<dt>34</dt>\n",
       "\t\t<dd>0.0146728779496247</dd>\n",
       "\t<dt>35</dt>\n",
       "\t\t<dd>0.0263693765903035</dd>\n",
       "\t<dt>36</dt>\n",
       "\t\t<dd>-0.00472371339988461</dd>\n",
       "\t<dt>37</dt>\n",
       "\t\t<dd>-0.0105283348320682</dd>\n",
       "\t<dt>38</dt>\n",
       "\t\t<dd>0.0190028056016005</dd>\n",
       "\t<dt>39</dt>\n",
       "\t\t<dd>0.032361845495505</dd>\n",
       "\t<dt>40</dt>\n",
       "\t\t<dd>0.0295426044445423</dd>\n",
       "\t<dt>41</dt>\n",
       "\t\t<dd>0.0217135704445423</dd>\n",
       "\t<dt>42</dt>\n",
       "\t\t<dd>-0.0751108965554578</dd>\n",
       "\t<dt>43</dt>\n",
       "\t\t<dd>-0.114279573555458</dd>\n",
       "\t<dt>44</dt>\n",
       "\t\t<dd>-0.0744149043079989</dd>\n",
       "\t<dt>45</dt>\n",
       "\t\t<dd>0.018935310580139</dd>\n",
       "\t<dt>46</dt>\n",
       "\t\t<dd>0.0571881316479373</dd>\n",
       "</dl>\n"
      ],
      "text/latex": [
       "\\begin{description*}\n",
       "\\item[1] 0.0601879469801255\n",
       "\\item[2] 0.118857233867846\n",
       "\\item[3] 0.0169411825923534\n",
       "\\item[4] -0.00187138995208302\n",
       "\\item[5] -0.0980821841317437\n",
       "\\item[6] -0.0580476210978444\n",
       "\\item[7] -0.0325044290474198\n",
       "\\item[8] -0.0509688066707251\n",
       "\\item[9] -0.0536688455890178\n",
       "\\item[10] -0.026499985030046\n",
       "\\item[11] -0.00140520747016415\n",
       "\\item[12] 0.0105441648241926\n",
       "\\item[13] 0.00372837782577501\n",
       "\\item[14] 0.00318707103775214\n",
       "\\item[15] 0.000961483037752191\n",
       "\\item[16] 0.0116282116959761\n",
       "\\item[17] 0.0120295978580916\n",
       "\\item[18] 0.0143552588060249\n",
       "\\item[19] -0.0115653851742264\n",
       "\\item[20] -0.00810159159965668\n",
       "\\item[21] 0.0392402459258901\n",
       "\\item[22] 0.0497892342354398\n",
       "\\item[23] 0.0235784368276747\n",
       "\\item[24] 0.00872842252161289\n",
       "\\item[25] -0.00114905361309145\n",
       "\\item[26] 0.00636078657284551\n",
       "\\item[27] 0.0221425447715213\n",
       "\\item[28] -0.00690054812204435\n",
       "\\item[29] -0.016592802916655\n",
       "\\item[30] 0.0169586226104595\n",
       "\\item[31] 0.0202549657021658\n",
       "\\item[32] 0.00915248230894559\n",
       "\\item[33] -0.0219975196910544\n",
       "\\item[34] 0.0146728779496247\n",
       "\\item[35] 0.0263693765903035\n",
       "\\item[36] -0.00472371339988461\n",
       "\\item[37] -0.0105283348320682\n",
       "\\item[38] 0.0190028056016005\n",
       "\\item[39] 0.032361845495505\n",
       "\\item[40] 0.0295426044445423\n",
       "\\item[41] 0.0217135704445423\n",
       "\\item[42] -0.0751108965554578\n",
       "\\item[43] -0.114279573555458\n",
       "\\item[44] -0.0744149043079989\n",
       "\\item[45] 0.018935310580139\n",
       "\\item[46] 0.0571881316479373\n",
       "\\end{description*}\n"
      ],
      "text/markdown": [
       "1\n",
       ":   0.06018794698012552\n",
       ":   0.1188572338678463\n",
       ":   0.01694118259235344\n",
       ":   -0.001871389952083025\n",
       ":   -0.09808218413174376\n",
       ":   -0.05804762109784447\n",
       ":   -0.03250442904741988\n",
       ":   -0.05096880667072519\n",
       ":   -0.053668845589017810\n",
       ":   -0.02649998503004611\n",
       ":   -0.0014052074701641512\n",
       ":   0.010544164824192613\n",
       ":   0.0037283778257750114\n",
       ":   0.0031870710377521415\n",
       ":   0.00096148303775219116\n",
       ":   0.011628211695976117\n",
       ":   0.012029597858091618\n",
       ":   0.014355258806024919\n",
       ":   -0.011565385174226420\n",
       ":   -0.0081015915996566821\n",
       ":   0.039240245925890122\n",
       ":   0.049789234235439823\n",
       ":   0.023578436827674724\n",
       ":   0.0087284225216128925\n",
       ":   -0.0011490536130914526\n",
       ":   0.0063607865728455127\n",
       ":   0.022142544771521328\n",
       ":   -0.0069005481220443529\n",
       ":   -0.01659280291665530\n",
       ":   0.016958622610459531\n",
       ":   0.020254965702165832\n",
       ":   0.0091524823089455933\n",
       ":   -0.021997519691054434\n",
       ":   0.014672877949624735\n",
       ":   0.026369376590303536\n",
       ":   -0.0047237133998846137\n",
       ":   -0.010528334832068238\n",
       ":   0.019002805601600539\n",
       ":   0.03236184549550540\n",
       ":   0.029542604444542341\n",
       ":   0.021713570444542342\n",
       ":   -0.075110896555457843\n",
       ":   -0.11427957355545844\n",
       ":   -0.074414904307998945\n",
       ":   0.01893531058013946\n",
       ":   0.0571881316479373\n",
       "\n"
      ],
      "text/plain": [
       "           1            2            3            4            5            6 \n",
       " 0.060187947  0.118857234  0.016941183 -0.001871390 -0.098082184 -0.058047621 \n",
       "           7            8            9           10           11           12 \n",
       "-0.032504429 -0.050968807 -0.053668846 -0.026499985 -0.001405207  0.010544165 \n",
       "          13           14           15           16           17           18 \n",
       " 0.003728378  0.003187071  0.000961483  0.011628212  0.012029598  0.014355259 \n",
       "          19           20           21           22           23           24 \n",
       "-0.011565385 -0.008101592  0.039240246  0.049789234  0.023578437  0.008728423 \n",
       "          25           26           27           28           29           30 \n",
       "-0.001149054  0.006360787  0.022142545 -0.006900548 -0.016592803  0.016958623 \n",
       "          31           32           33           34           35           36 \n",
       " 0.020254966  0.009152482 -0.021997520  0.014672878  0.026369377 -0.004723713 \n",
       "          37           38           39           40           41           42 \n",
       "-0.010528335  0.019002806  0.032361845  0.029542604  0.021713570 -0.075110897 \n",
       "          43           44           45           46 \n",
       "-0.114279574 -0.074414904  0.018935311  0.057188132 "
      ]
     },
     "metadata": {},
     "output_type": "display_data"
    }
   ],
   "source": [
    "residuals(fit) # residuals"
   ]
  },
  {
   "cell_type": "code",
   "execution_count": 32,
   "metadata": {},
   "outputs": [
    {
     "data": {
      "text/html": [
       "<table>\n",
       "<thead><tr><th></th><th scope=col>Df</th><th scope=col>Sum Sq</th><th scope=col>Mean Sq</th><th scope=col>F value</th><th scope=col>Pr(&gt;F)</th></tr></thead>\n",
       "<tbody>\n",
       "\t<tr><th scope=row>x</th><td> 1          </td><td>3.46391593  </td><td>3.463915930 </td><td>1965.946    </td><td>3.700363e-38</td></tr>\n",
       "\t<tr><th scope=row>Residuals</th><td>44          </td><td>0.07752619  </td><td>0.001761959 </td><td>      NA    </td><td>          NA</td></tr>\n",
       "</tbody>\n",
       "</table>\n"
      ],
      "text/latex": [
       "\\begin{tabular}{r|lllll}\n",
       "  & Df & Sum Sq & Mean Sq & F value & Pr(>F)\\\\\n",
       "\\hline\n",
       "\tx &  1           & 3.46391593   & 3.463915930  & 1965.946     & 3.700363e-38\\\\\n",
       "\tResiduals & 44           & 0.07752619   & 0.001761959  &       NA     &           NA\\\\\n",
       "\\end{tabular}\n"
      ],
      "text/markdown": [
       "\n",
       "| <!--/--> | Df | Sum Sq | Mean Sq | F value | Pr(>F) | \n",
       "|---|---|\n",
       "| x |  1           | 3.46391593   | 3.463915930  | 1965.946     | 3.700363e-38 | \n",
       "| Residuals | 44           | 0.07752619   | 0.001761959  |       NA     |           NA | \n",
       "\n",
       "\n"
      ],
      "text/plain": [
       "          Df Sum Sq     Mean Sq     F value  Pr(>F)      \n",
       "x          1 3.46391593 3.463915930 1965.946 3.700363e-38\n",
       "Residuals 44 0.07752619 0.001761959       NA           NA"
      ]
     },
     "metadata": {},
     "output_type": "display_data"
    }
   ],
   "source": [
    "anova(fit) # anova table "
   ]
  },
  {
   "cell_type": "code",
   "execution_count": 36,
   "metadata": {},
   "outputs": [
    {
     "name": "stdout",
     "output_type": "stream",
     "text": [
      "   Vendedor Vendas Anos Score.Intelig\n",
      "1         1      9    6             3\n",
      "2         2      6    5             2\n",
      "3         3      4    3             2\n",
      "4         4      3    1             1\n",
      "5         5      3    4             1\n",
      "6         6      5    3             3\n",
      "7         7      8    6             3\n",
      "8         8      2    2             1\n",
      "9         9      7    4             2\n",
      "10       10      4    2             2\n"
     ]
    }
   ],
   "source": [
    "my_data<-read.csv(\"3RegressaoMultipla.csv\", header = TRUE, sep = \";\")\n",
    "print(my_data)"
   ]
  },
  {
   "cell_type": "code",
   "execution_count": 37,
   "metadata": {},
   "outputs": [],
   "source": [
    "y<-my_data[, c(2)]"
   ]
  },
  {
   "cell_type": "code",
   "execution_count": 38,
   "metadata": {},
   "outputs": [],
   "source": [
    "x1<-my_data[, c(3)]"
   ]
  },
  {
   "cell_type": "code",
   "execution_count": 42,
   "metadata": {},
   "outputs": [],
   "source": [
    "x2<-my_data[, c(4)]"
   ]
  },
  {
   "cell_type": "code",
   "execution_count": 43,
   "metadata": {},
   "outputs": [
    {
     "data": {
      "text/plain": [
       "\n",
       "Call:\n",
       "lm(formula = y ~ x1 + x2, data = my_data)\n",
       "\n",
       "Residuals:\n",
       "    Min      1Q  Median      3Q     Max \n",
       "-1.0593 -0.6314 -0.1864  0.6017  1.6017 \n",
       "\n",
       "Coefficients:\n",
       "            Estimate Std. Error t value Pr(>|t|)  \n",
       "(Intercept)  -0.2627     0.9374  -0.280   0.7874  \n",
       "x1            0.7458     0.2607   2.861   0.0243 *\n",
       "x2            1.3390     0.5468   2.449   0.0442 *\n",
       "---\n",
       "Signif. codes:  0 '***' 0.001 '**' 0.01 '*' 0.05 '.' 0.1 ' ' 1\n",
       "\n",
       "Residual standard error: 1.034 on 7 degrees of freedom\n",
       "Multiple R-squared:  0.847,\tAdjusted R-squared:  0.8033 \n",
       "F-statistic: 19.37 on 2 and 7 DF,  p-value: 0.001402\n"
      ]
     },
     "metadata": {},
     "output_type": "display_data"
    }
   ],
   "source": [
    "fit <- lm(y ~ x1 + x2, data = my_data)\n",
    "summary(fit) # show results"
   ]
  },
  {
   "cell_type": "code",
   "execution_count": 44,
   "metadata": {},
   "outputs": [
    {
     "data": {
      "text/html": [
       "<dl class=dl-horizontal>\n",
       "\t<dt>(Intercept)</dt>\n",
       "\t\t<dd>-0.26271186440678</dd>\n",
       "\t<dt>x1</dt>\n",
       "\t\t<dd>0.745762711864407</dd>\n",
       "\t<dt>x2</dt>\n",
       "\t\t<dd>1.33898305084746</dd>\n",
       "</dl>\n"
      ],
      "text/latex": [
       "\\begin{description*}\n",
       "\\item[(Intercept)] -0.26271186440678\n",
       "\\item[x1] 0.745762711864407\n",
       "\\item[x2] 1.33898305084746\n",
       "\\end{description*}\n"
      ],
      "text/markdown": [
       "(Intercept)\n",
       ":   -0.26271186440678x1\n",
       ":   0.745762711864407x2\n",
       ":   1.33898305084746\n",
       "\n"
      ],
      "text/plain": [
       "(Intercept)          x1          x2 \n",
       " -0.2627119   0.7457627   1.3389831 "
      ]
     },
     "metadata": {},
     "output_type": "display_data"
    }
   ],
   "source": [
    "coefficients(fit) # model coefficients"
   ]
  },
  {
   "cell_type": "code",
   "execution_count": 45,
   "metadata": {},
   "outputs": [
    {
     "data": {
      "text/html": [
       "<table>\n",
       "<thead><tr><th></th><th scope=col>2.5 %</th><th scope=col>97.5 %</th></tr></thead>\n",
       "<tbody>\n",
       "\t<tr><th scope=row>(Intercept)</th><td>-2.47936291</td><td>1.953939   </td></tr>\n",
       "\t<tr><th scope=row>x1</th><td> 0.12939186</td><td>1.362134   </td></tr>\n",
       "\t<tr><th scope=row>x2</th><td> 0.04607264</td><td>2.631893   </td></tr>\n",
       "</tbody>\n",
       "</table>\n"
      ],
      "text/latex": [
       "\\begin{tabular}{r|ll}\n",
       "  & 2.5 \\% & 97.5 \\%\\\\\n",
       "\\hline\n",
       "\t(Intercept) & -2.47936291 & 1.953939   \\\\\n",
       "\tx1 &  0.12939186 & 1.362134   \\\\\n",
       "\tx2 &  0.04607264 & 2.631893   \\\\\n",
       "\\end{tabular}\n"
      ],
      "text/markdown": [
       "\n",
       "| <!--/--> | 2.5 % | 97.5 % | \n",
       "|---|---|---|\n",
       "| (Intercept) | -2.47936291 | 1.953939    | \n",
       "| x1 |  0.12939186 | 1.362134    | \n",
       "| x2 |  0.04607264 | 2.631893    | \n",
       "\n",
       "\n"
      ],
      "text/plain": [
       "            2.5 %       97.5 %  \n",
       "(Intercept) -2.47936291 1.953939\n",
       "x1           0.12939186 1.362134\n",
       "x2           0.04607264 2.631893"
      ]
     },
     "metadata": {},
     "output_type": "display_data"
    }
   ],
   "source": [
    "confint(fit, level=0.95) # CIs for model parameters"
   ]
  },
  {
   "cell_type": "code",
   "execution_count": 46,
   "metadata": {},
   "outputs": [
    {
     "data": {
      "text/html": [
       "<dl class=dl-horizontal>\n",
       "\t<dt>1</dt>\n",
       "\t\t<dd>8.22881355932203</dd>\n",
       "\t<dt>2</dt>\n",
       "\t\t<dd>6.14406779661017</dd>\n",
       "\t<dt>3</dt>\n",
       "\t\t<dd>4.65254237288136</dd>\n",
       "\t<dt>4</dt>\n",
       "\t\t<dd>1.82203389830508</dd>\n",
       "\t<dt>5</dt>\n",
       "\t\t<dd>4.0593220338983</dd>\n",
       "\t<dt>6</dt>\n",
       "\t\t<dd>5.99152542372881</dd>\n",
       "\t<dt>7</dt>\n",
       "\t\t<dd>8.22881355932203</dd>\n",
       "\t<dt>8</dt>\n",
       "\t\t<dd>2.56779661016949</dd>\n",
       "\t<dt>9</dt>\n",
       "\t\t<dd>5.39830508474576</dd>\n",
       "\t<dt>10</dt>\n",
       "\t\t<dd>3.90677966101695</dd>\n",
       "</dl>\n"
      ],
      "text/latex": [
       "\\begin{description*}\n",
       "\\item[1] 8.22881355932203\n",
       "\\item[2] 6.14406779661017\n",
       "\\item[3] 4.65254237288136\n",
       "\\item[4] 1.82203389830508\n",
       "\\item[5] 4.0593220338983\n",
       "\\item[6] 5.99152542372881\n",
       "\\item[7] 8.22881355932203\n",
       "\\item[8] 2.56779661016949\n",
       "\\item[9] 5.39830508474576\n",
       "\\item[10] 3.90677966101695\n",
       "\\end{description*}\n"
      ],
      "text/markdown": [
       "1\n",
       ":   8.228813559322032\n",
       ":   6.144067796610173\n",
       ":   4.652542372881364\n",
       ":   1.822033898305085\n",
       ":   4.05932203389836\n",
       ":   5.991525423728817\n",
       ":   8.228813559322038\n",
       ":   2.567796610169499\n",
       ":   5.3983050847457610\n",
       ":   3.90677966101695\n",
       "\n"
      ],
      "text/plain": [
       "       1        2        3        4        5        6        7        8 \n",
       "8.228814 6.144068 4.652542 1.822034 4.059322 5.991525 8.228814 2.567797 \n",
       "       9       10 \n",
       "5.398305 3.906780 "
      ]
     },
     "metadata": {},
     "output_type": "display_data"
    }
   ],
   "source": [
    "fitted(fit) # predicted values"
   ]
  },
  {
   "cell_type": "code",
   "execution_count": 47,
   "metadata": {},
   "outputs": [
    {
     "data": {
      "text/html": [
       "<dl class=dl-horizontal>\n",
       "\t<dt>1</dt>\n",
       "\t\t<dd>0.771186440677968</dd>\n",
       "\t<dt>2</dt>\n",
       "\t\t<dd>-0.14406779661017</dd>\n",
       "\t<dt>3</dt>\n",
       "\t\t<dd>-0.652542372881356</dd>\n",
       "\t<dt>4</dt>\n",
       "\t\t<dd>1.17796610169492</dd>\n",
       "\t<dt>5</dt>\n",
       "\t\t<dd>-1.0593220338983</dd>\n",
       "\t<dt>6</dt>\n",
       "\t\t<dd>-0.991525423728814</dd>\n",
       "\t<dt>7</dt>\n",
       "\t\t<dd>-0.228813559322035</dd>\n",
       "\t<dt>8</dt>\n",
       "\t\t<dd>-0.567796610169491</dd>\n",
       "\t<dt>9</dt>\n",
       "\t\t<dd>1.60169491525424</dd>\n",
       "\t<dt>10</dt>\n",
       "\t\t<dd>0.0932203389830504</dd>\n",
       "</dl>\n"
      ],
      "text/latex": [
       "\\begin{description*}\n",
       "\\item[1] 0.771186440677968\n",
       "\\item[2] -0.14406779661017\n",
       "\\item[3] -0.652542372881356\n",
       "\\item[4] 1.17796610169492\n",
       "\\item[5] -1.0593220338983\n",
       "\\item[6] -0.991525423728814\n",
       "\\item[7] -0.228813559322035\n",
       "\\item[8] -0.567796610169491\n",
       "\\item[9] 1.60169491525424\n",
       "\\item[10] 0.0932203389830504\n",
       "\\end{description*}\n"
      ],
      "text/markdown": [
       "1\n",
       ":   0.7711864406779682\n",
       ":   -0.144067796610173\n",
       ":   -0.6525423728813564\n",
       ":   1.177966101694925\n",
       ":   -1.05932203389836\n",
       ":   -0.9915254237288147\n",
       ":   -0.2288135593220358\n",
       ":   -0.5677966101694919\n",
       ":   1.6016949152542410\n",
       ":   0.0932203389830504\n",
       "\n"
      ],
      "text/plain": [
       "          1           2           3           4           5           6 \n",
       " 0.77118644 -0.14406780 -0.65254237  1.17796610 -1.05932203 -0.99152542 \n",
       "          7           8           9          10 \n",
       "-0.22881356 -0.56779661  1.60169492  0.09322034 "
      ]
     },
     "metadata": {},
     "output_type": "display_data"
    }
   ],
   "source": [
    "residuals(fit) # residuals"
   ]
  },
  {
   "cell_type": "code",
   "execution_count": 48,
   "metadata": {},
   "outputs": [
    {
     "data": {
      "text/html": [
       "<table>\n",
       "<thead><tr><th></th><th scope=col>Df</th><th scope=col>Sum Sq</th><th scope=col>Mean Sq</th><th scope=col>F value</th><th scope=col>Pr(&gt;F)</th></tr></thead>\n",
       "<tbody>\n",
       "\t<tr><th scope=row>x1</th><td>1         </td><td>35.006061 </td><td>35.006061 </td><td>32.746326 </td><td>0.00071851</td></tr>\n",
       "\t<tr><th scope=row>x2</th><td>1         </td><td> 6.410889 </td><td> 6.410889 </td><td> 5.997049 </td><td>0.04417930</td></tr>\n",
       "\t<tr><th scope=row>Residuals</th><td>7         </td><td> 7.483051 </td><td> 1.069007 </td><td>       NA </td><td>        NA</td></tr>\n",
       "</tbody>\n",
       "</table>\n"
      ],
      "text/latex": [
       "\\begin{tabular}{r|lllll}\n",
       "  & Df & Sum Sq & Mean Sq & F value & Pr(>F)\\\\\n",
       "\\hline\n",
       "\tx1 & 1          & 35.006061  & 35.006061  & 32.746326  & 0.00071851\\\\\n",
       "\tx2 & 1          &  6.410889  &  6.410889  &  5.997049  & 0.04417930\\\\\n",
       "\tResiduals & 7          &  7.483051  &  1.069007  &        NA  &         NA\\\\\n",
       "\\end{tabular}\n"
      ],
      "text/markdown": [
       "\n",
       "| <!--/--> | Df | Sum Sq | Mean Sq | F value | Pr(>F) | \n",
       "|---|---|---|\n",
       "| x1 | 1          | 35.006061  | 35.006061  | 32.746326  | 0.00071851 | \n",
       "| x2 | 1          |  6.410889  |  6.410889  |  5.997049  | 0.04417930 | \n",
       "| Residuals | 7          |  7.483051  |  1.069007  |        NA  |         NA | \n",
       "\n",
       "\n"
      ],
      "text/plain": [
       "          Df Sum Sq    Mean Sq   F value   Pr(>F)    \n",
       "x1        1  35.006061 35.006061 32.746326 0.00071851\n",
       "x2        1   6.410889  6.410889  5.997049 0.04417930\n",
       "Residuals 7   7.483051  1.069007        NA         NA"
      ]
     },
     "metadata": {},
     "output_type": "display_data"
    }
   ],
   "source": [
    "anova(fit) # anova table "
   ]
  },
  {
   "cell_type": "code",
   "execution_count": 49,
   "metadata": {},
   "outputs": [
    {
     "name": "stdout",
     "output_type": "stream",
     "text": [
      "   Tempo.de.Entrega..Dias.\n",
      "1                 2.642661\n",
      "2                 2.303703\n",
      "3                 2.336593\n",
      "4                 2.792303\n",
      "5                 3.012152\n",
      "6                 3.084668\n",
      "7                 2.792402\n",
      "8                 2.204737\n",
      "9                 3.090634\n",
      "10                2.267621\n",
      "11                2.919537\n",
      "12                1.982752\n",
      "13                3.020704\n",
      "14                2.153841\n",
      "15                2.981796\n",
      "16                2.587862\n",
      "17                2.642236\n",
      "18                1.958647\n",
      "19                1.962052\n",
      "20                2.096059\n",
      "21                2.809824\n",
      "22                2.855840\n",
      "23                3.092852\n",
      "24                2.472411\n",
      "25                2.713446\n",
      "26                2.534773\n",
      "27                2.544732\n",
      "28                2.477604\n",
      "29                2.201561\n",
      "30                1.999305\n"
     ]
    }
   ],
   "source": [
    "my_data<-read.csv(\"3OneSampleT.csv\", header = TRUE, sep = \";\")\n",
    "print(my_data)"
   ]
  },
  {
   "cell_type": "code",
   "execution_count": 52,
   "metadata": {},
   "outputs": [
    {
     "data": {
      "text/plain": [
       "\n",
       "\tOne Sample t-test\n",
       "\n",
       "data:  my_data\n",
       "t = -6.557, df = 29, p-value = 3.498e-07\n",
       "alternative hypothesis: true mean is not equal to 3\n",
       "95 percent confidence interval:\n",
       " 2.411182 2.691171\n",
       "sample estimates:\n",
       "mean of x \n",
       " 2.551177 \n"
      ]
     },
     "metadata": {},
     "output_type": "display_data"
    }
   ],
   "source": [
    "t.test(my_data, mu=3)"
   ]
  }
 ],
 "metadata": {
  "kernelspec": {
   "display_name": "R",
   "language": "R",
   "name": "ir"
  },
  "language_info": {
   "codemirror_mode": "r",
   "file_extension": ".r",
   "mimetype": "text/x-r-source",
   "name": "R",
   "pygments_lexer": "r",
   "version": "3.4.3"
  }
 },
 "nbformat": 4,
 "nbformat_minor": 2
}

{
 "cells": [
  {
   "cell_type": "markdown",
   "metadata": {},
   "source": [
    "# Primeiramente é necessário instalar os pacotes que iremos utilizar"
   ]
  },
  {
   "cell_type": "code",
   "execution_count": 14,
   "metadata": {
    "collapsed": true
   },
   "outputs": [
    {
     "name": "stderr",
     "output_type": "stream",
     "text": [
      "Installing package into 'C:/Users/pedro/Documents/R/win-library/3.4'\n",
      "(as 'lib' is unspecified)\n",
      "Warning message:\n",
      "\"package 'SixSigma' is in use and will not be installed\"Installing package into 'C:/Users/pedro/Documents/R/win-library/3.4'\n",
      "(as 'lib' is unspecified)\n",
      "Warning message:\n",
      "\"package 'qcc' is in use and will not be installed\"Installing package into 'C:/Users/pedro/Documents/R/win-library/3.4'\n",
      "(as 'lib' is unspecified)\n",
      "Warning message:\n",
      "\"package 'nortest' is in use and will not be installed\"Installing package into 'C:/Users/pedro/Documents/R/win-library/3.4'\n",
      "(as 'lib' is unspecified)\n",
      "Warning message:\n",
      "\"package 'dplyr' is in use and will not be installed\"Installing package into 'C:/Users/pedro/Documents/R/win-library/3.4'\n",
      "(as 'lib' is unspecified)\n"
     ]
    },
    {
     "name": "stdout",
     "output_type": "stream",
     "text": [
      "package 'devtools' successfully unpacked and MD5 sums checked\n",
      "\n",
      "The downloaded binary packages are in\n",
      "\tC:\\Users\\pedro\\AppData\\Local\\Temp\\RtmpY1gdcR\\downloaded_packages\n"
     ]
    },
    {
     "name": "stderr",
     "output_type": "stream",
     "text": [
      "Installing package into 'C:/Users/pedro/Documents/R/win-library/3.4'\n",
      "(as 'lib' is unspecified)\n"
     ]
    },
    {
     "name": "stdout",
     "output_type": "stream",
     "text": [
      "package 'ggpubr' successfully unpacked and MD5 sums checked\n",
      "\n",
      "The downloaded binary packages are in\n",
      "\tC:\\Users\\pedro\\AppData\\Local\\Temp\\RtmpY1gdcR\\downloaded_packages\n"
     ]
    }
   ],
   "source": [
    "install.packages(\"SixSigma\", dependencies=TRUE) ### installs bibliometrix package and dependencies\n",
    "install.packages(\"qcc\", dependencies=TRUE) ### installs bibliometrix package and dependencies\n",
    "install.packages(\"nortest\", dependencies=TRUE) ### installs bibliometrix package and dependencies\n",
    "install.packages(\"dplyr\")\n",
    "install.packages(\"devtools\")\n",
    "install.packages(\"ggpubr\")"
   ]
  },
  {
   "cell_type": "markdown",
   "metadata": {},
   "source": [
    "# Em seguida precisamos 'chamar' as bibliotecas"
   ]
  },
  {
   "cell_type": "code",
   "execution_count": 11,
   "metadata": {},
   "outputs": [],
   "source": [
    "library(\"SixSigma\") \n",
    "library(\"dplyr\")\n",
    "\n",
    "#Import process measurements from a file\n",
    "#Data are in 99 samples of 100 measurements each\n",
    "library(\"qcc\")\n",
    "library(\"nortest\")"
   ]
  },
  {
   "cell_type": "markdown",
   "metadata": {},
   "source": [
    "# Vamos começar trabalhando com o arquivo 1-Estatística descritiva.csv"
   ]
  },
  {
   "cell_type": "markdown",
   "metadata": {},
   "source": [
    "# Perceba que caso o arquivo não esteja na mesma pasta do arquivo '.r' você precisa colocar o endereço completo, ex:\n",
    "\n",
    "x<-read.csv(\"C:\\\\Users\\\\pedro\\\\Desktop\\\\CEFET\\\\Disciplinas CEFET\\\\Lean Seis Sigma\\\\AulaEstDescritiva.csv\", header = TRUE, #sep = \";\")"
   ]
  },
  {
   "cell_type": "code",
   "execution_count": 16,
   "metadata": {
    "collapsed": true
   },
   "outputs": [
    {
     "name": "stdout",
     "output_type": "stream",
     "text": [
      "    Raio..cm.    Status                Data\n",
      "1       28.64    Aceito  13/5/2018 00:00:00\n",
      "2       28.99    Aceito  14/8/2018 00:00:00\n",
      "3       29.78    Aceito  13/9/2018 00:00:00\n",
      "4       30.47 Rejeitado 10/12/2018 00:00:00\n",
      "5       33.78 Rejeitado   1/7/2018 00:00:00\n",
      "6       30.63 Rejeitado 12/10/2018 00:00:00\n",
      "7       32.81 Rejeitado  7/11/2018 00:00:00\n",
      "8       27.99 Rejeitado  12/1/2018 00:00:00\n",
      "9       32.08    Aceito  13/5/2018 00:00:00\n",
      "10      31.54    Aceito  14/8/2018 00:00:00\n",
      "11      29.08 Rejeitado  13/9/2018 00:00:00\n",
      "12      26.85 Rejeitado 10/12/2018 00:00:00\n",
      "13      32.65 Rejeitado   1/7/2018 00:00:00\n",
      "14      26.50    Aceito 12/10/2018 00:00:00\n",
      "15      28.67    Aceito  7/11/2018 00:00:00\n",
      "16      28.52 Rejeitado  12/1/2018 00:00:00\n",
      "17      26.71 Rejeitado  13/5/2018 00:00:00\n",
      "18      36.13 Rejeitado  14/8/2018 00:00:00\n",
      "19      35.12    Aceito  13/9/2018 00:00:00\n",
      "20      28.16    Aceito 10/12/2018 00:00:00\n",
      "21      28.69    Aceito   1/7/2018 00:00:00\n",
      "22      32.47 Rejeitado 12/10/2018 00:00:00\n",
      "23      30.70 Rejeitado  7/11/2018 00:00:00\n",
      "24      31.56 Rejeitado  12/1/2018 00:00:00\n",
      "25      28.22 Rejeitado  13/5/2018 00:00:00\n",
      "26      28.08 Rejeitado  14/8/2018 00:00:00\n",
      "27      29.98    Aceito  13/9/2018 00:00:00\n",
      "28      29.58    Aceito 10/12/2018 00:00:00\n",
      "29      30.37 Rejeitado   1/7/2018 00:00:00\n",
      "30      31.60 Rejeitado 12/10/2018 00:00:00\n",
      "31      27.72 Rejeitado  7/11/2018 00:00:00\n",
      "32      28.03    Aceito  12/1/2018 00:00:00\n",
      "33      31.95    Aceito  13/5/2018 00:00:00\n",
      "34      27.92 Rejeitado  14/8/2018 00:00:00\n",
      "35      30.95 Rejeitado  13/9/2018 00:00:00\n",
      "36      29.59 Rejeitado 10/12/2018 00:00:00\n",
      "37      30.22    Aceito   1/7/2018 00:00:00\n",
      "38      28.78    Aceito 12/10/2018 00:00:00\n",
      "39      30.51    Aceito  7/11/2018 00:00:00\n",
      "40      28.88 Rejeitado  12/1/2018 00:00:00\n",
      "41      30.08 Rejeitado  13/5/2018 00:00:00\n",
      "42      27.17 Rejeitado  14/8/2018 00:00:00\n",
      "43      31.24 Rejeitado  13/9/2018 00:00:00\n",
      "44      28.96 Rejeitado 10/12/2018 00:00:00\n",
      "45      28.30    Aceito   1/7/2018 00:00:00\n",
      "46      27.91    Aceito 12/10/2018 00:00:00\n",
      "47      29.68 Rejeitado  7/11/2018 00:00:00\n",
      "48      34.53 Rejeitado  12/1/2018 00:00:00\n",
      "49      29.72 Rejeitado  13/5/2018 00:00:00\n",
      "50      26.57    Aceito  14/8/2018 00:00:00\n",
      "51      28.32    Aceito  13/9/2018 00:00:00\n",
      "52      27.04 Rejeitado 10/12/2018 00:00:00\n",
      "53      30.50 Rejeitado   1/7/2018 00:00:00\n",
      "54      27.74 Rejeitado 12/10/2018 00:00:00\n",
      "55      30.44    Aceito  7/11/2018 00:00:00\n",
      "56      28.09    Aceito  12/1/2018 00:00:00\n",
      "57      30.24    Aceito  13/5/2018 00:00:00\n",
      "58      26.42 Rejeitado  14/8/2018 00:00:00\n",
      "59      30.76 Rejeitado  13/9/2018 00:00:00\n",
      "60      30.93 Rejeitado 10/12/2018 00:00:00\n",
      "61      27.63 Rejeitado   1/7/2018 00:00:00\n",
      "62      26.24 Rejeitado 12/10/2018 00:00:00\n",
      "63      30.92    Aceito  7/11/2018 00:00:00\n",
      "64      26.65    Aceito  12/1/2018 00:00:00\n",
      "65      33.89 Rejeitado  13/5/2018 00:00:00\n",
      "66      30.15 Rejeitado  14/8/2018 00:00:00\n",
      "67      28.01 Rejeitado  13/9/2018 00:00:00\n",
      "68      32.03    Aceito 10/12/2018 00:00:00\n",
      "69      27.32    Aceito   1/7/2018 00:00:00\n",
      "70      32.66 Rejeitado 12/10/2018 00:00:00\n",
      "71      33.62 Rejeitado  7/11/2018 00:00:00\n",
      "72      31.19 Rejeitado  12/1/2018 00:00:00\n",
      "73      30.03    Aceito  13/5/2018 00:00:00\n",
      "74      30.00    Aceito  14/8/2018 00:00:00\n",
      "75      28.37    Aceito  13/9/2018 00:00:00\n",
      "76      31.45 Rejeitado 10/12/2018 00:00:00\n",
      "77      33.31 Rejeitado   1/7/2018 00:00:00\n",
      "78      32.30 Rejeitado 12/10/2018 00:00:00\n",
      "79      28.69 Rejeitado  7/11/2018 00:00:00\n",
      "80      30.48 Rejeitado  12/1/2018 00:00:00\n",
      "81      31.96    Aceito  13/5/2018 00:00:00\n",
      "82      30.13    Aceito  14/8/2018 00:00:00\n",
      "83      34.17 Rejeitado  13/9/2018 00:00:00\n",
      "84      34.04 Rejeitado 10/12/2018 00:00:00\n",
      "85      34.03 Rejeitado   1/7/2018 00:00:00\n",
      "86      29.00    Aceito 12/10/2018 00:00:00\n",
      "87      34.68    Aceito  7/11/2018 00:00:00\n",
      "88      31.68 Rejeitado  12/1/2018 00:00:00\n",
      "89      34.91 Rejeitado  13/5/2018 00:00:00\n",
      "90      28.70 Rejeitado  14/8/2018 00:00:00\n",
      "91      26.29    Aceito  13/9/2018 00:00:00\n",
      "92      33.47    Aceito 10/12/2018 00:00:00\n",
      "93      30.17    Aceito   1/7/2018 00:00:00\n",
      "94      28.78 Rejeitado 12/10/2018 00:00:00\n",
      "95      29.69 Rejeitado  7/11/2018 00:00:00\n",
      "96      30.26 Rejeitado  12/1/2018 00:00:00\n",
      "97      28.86 Rejeitado  13/5/2018 00:00:00\n",
      "98      27.64 Rejeitado  14/8/2018 00:00:00\n",
      "99      30.93    Aceito  13/9/2018 00:00:00\n",
      "100     26.14    Aceito 10/12/2018 00:00:00\n"
     ]
    }
   ],
   "source": [
    "x<-read.csv(\"Aula1EstDescritiva.csv\", header = TRUE, sep = \";\")\n",
    "print(x)"
   ]
  },
  {
   "cell_type": "code",
   "execution_count": 17,
   "metadata": {},
   "outputs": [],
   "source": [
    "x<-as.data.frame(x)\n",
    "my_data<-x"
   ]
  },
  {
   "cell_type": "code",
   "execution_count": 18,
   "metadata": {
    "collapsed": true
   },
   "outputs": [
    {
     "data": {
      "text/html": [
       "<table>\n",
       "<thead><tr><th scope=col>Raio..cm.</th><th scope=col>Data</th></tr></thead>\n",
       "<tbody>\n",
       "\t<tr><td>28.64              </td><td>13/5/2018 00:00:00 </td></tr>\n",
       "\t<tr><td>28.99              </td><td>14/8/2018 00:00:00 </td></tr>\n",
       "\t<tr><td>29.78              </td><td>13/9/2018 00:00:00 </td></tr>\n",
       "\t<tr><td>30.47              </td><td>10/12/2018 00:00:00</td></tr>\n",
       "\t<tr><td>33.78              </td><td>1/7/2018 00:00:00  </td></tr>\n",
       "\t<tr><td>30.63              </td><td>12/10/2018 00:00:00</td></tr>\n",
       "\t<tr><td>32.81              </td><td>7/11/2018 00:00:00 </td></tr>\n",
       "\t<tr><td>27.99              </td><td>12/1/2018 00:00:00 </td></tr>\n",
       "\t<tr><td>32.08              </td><td>13/5/2018 00:00:00 </td></tr>\n",
       "\t<tr><td>31.54              </td><td>14/8/2018 00:00:00 </td></tr>\n",
       "\t<tr><td>29.08              </td><td>13/9/2018 00:00:00 </td></tr>\n",
       "\t<tr><td>26.85              </td><td>10/12/2018 00:00:00</td></tr>\n",
       "\t<tr><td>32.65              </td><td>1/7/2018 00:00:00  </td></tr>\n",
       "\t<tr><td>26.50              </td><td>12/10/2018 00:00:00</td></tr>\n",
       "\t<tr><td>28.67              </td><td>7/11/2018 00:00:00 </td></tr>\n",
       "\t<tr><td>28.52              </td><td>12/1/2018 00:00:00 </td></tr>\n",
       "\t<tr><td>26.71              </td><td>13/5/2018 00:00:00 </td></tr>\n",
       "\t<tr><td>36.13              </td><td>14/8/2018 00:00:00 </td></tr>\n",
       "\t<tr><td>35.12              </td><td>13/9/2018 00:00:00 </td></tr>\n",
       "\t<tr><td>28.16              </td><td>10/12/2018 00:00:00</td></tr>\n",
       "\t<tr><td>28.69              </td><td>1/7/2018 00:00:00  </td></tr>\n",
       "\t<tr><td>32.47              </td><td>12/10/2018 00:00:00</td></tr>\n",
       "\t<tr><td>30.70              </td><td>7/11/2018 00:00:00 </td></tr>\n",
       "\t<tr><td>31.56              </td><td>12/1/2018 00:00:00 </td></tr>\n",
       "\t<tr><td>28.22              </td><td>13/5/2018 00:00:00 </td></tr>\n",
       "\t<tr><td>28.08              </td><td>14/8/2018 00:00:00 </td></tr>\n",
       "\t<tr><td>29.98              </td><td>13/9/2018 00:00:00 </td></tr>\n",
       "\t<tr><td>29.58              </td><td>10/12/2018 00:00:00</td></tr>\n",
       "\t<tr><td>30.37              </td><td>1/7/2018 00:00:00  </td></tr>\n",
       "\t<tr><td>31.60              </td><td>12/10/2018 00:00:00</td></tr>\n",
       "\t<tr><td>...</td><td>...</td></tr>\n",
       "\t<tr><td>33.62              </td><td>7/11/2018 00:00:00 </td></tr>\n",
       "\t<tr><td>31.19              </td><td>12/1/2018 00:00:00 </td></tr>\n",
       "\t<tr><td>30.03              </td><td>13/5/2018 00:00:00 </td></tr>\n",
       "\t<tr><td>30.00              </td><td>14/8/2018 00:00:00 </td></tr>\n",
       "\t<tr><td>28.37              </td><td>13/9/2018 00:00:00 </td></tr>\n",
       "\t<tr><td>31.45              </td><td>10/12/2018 00:00:00</td></tr>\n",
       "\t<tr><td>33.31              </td><td>1/7/2018 00:00:00  </td></tr>\n",
       "\t<tr><td>32.30              </td><td>12/10/2018 00:00:00</td></tr>\n",
       "\t<tr><td>28.69              </td><td>7/11/2018 00:00:00 </td></tr>\n",
       "\t<tr><td>30.48              </td><td>12/1/2018 00:00:00 </td></tr>\n",
       "\t<tr><td>31.96              </td><td>13/5/2018 00:00:00 </td></tr>\n",
       "\t<tr><td>30.13              </td><td>14/8/2018 00:00:00 </td></tr>\n",
       "\t<tr><td>34.17              </td><td>13/9/2018 00:00:00 </td></tr>\n",
       "\t<tr><td>34.04              </td><td>10/12/2018 00:00:00</td></tr>\n",
       "\t<tr><td>34.03              </td><td>1/7/2018 00:00:00  </td></tr>\n",
       "\t<tr><td>29.00              </td><td>12/10/2018 00:00:00</td></tr>\n",
       "\t<tr><td>34.68              </td><td>7/11/2018 00:00:00 </td></tr>\n",
       "\t<tr><td>31.68              </td><td>12/1/2018 00:00:00 </td></tr>\n",
       "\t<tr><td>34.91              </td><td>13/5/2018 00:00:00 </td></tr>\n",
       "\t<tr><td>28.70              </td><td>14/8/2018 00:00:00 </td></tr>\n",
       "\t<tr><td>26.29              </td><td>13/9/2018 00:00:00 </td></tr>\n",
       "\t<tr><td>33.47              </td><td>10/12/2018 00:00:00</td></tr>\n",
       "\t<tr><td>30.17              </td><td>1/7/2018 00:00:00  </td></tr>\n",
       "\t<tr><td>28.78              </td><td>12/10/2018 00:00:00</td></tr>\n",
       "\t<tr><td>29.69              </td><td>7/11/2018 00:00:00 </td></tr>\n",
       "\t<tr><td>30.26              </td><td>12/1/2018 00:00:00 </td></tr>\n",
       "\t<tr><td>28.86              </td><td>13/5/2018 00:00:00 </td></tr>\n",
       "\t<tr><td>27.64              </td><td>14/8/2018 00:00:00 </td></tr>\n",
       "\t<tr><td>30.93              </td><td>13/9/2018 00:00:00 </td></tr>\n",
       "\t<tr><td>26.14              </td><td>10/12/2018 00:00:00</td></tr>\n",
       "</tbody>\n",
       "</table>\n"
      ],
      "text/latex": [
       "\\begin{tabular}{r|ll}\n",
       " Raio..cm. & Data\\\\\n",
       "\\hline\n",
       "\t 28.64               & 13/5/2018 00:00:00 \\\\\n",
       "\t 28.99               & 14/8/2018 00:00:00 \\\\\n",
       "\t 29.78               & 13/9/2018 00:00:00 \\\\\n",
       "\t 30.47               & 10/12/2018 00:00:00\\\\\n",
       "\t 33.78               & 1/7/2018 00:00:00  \\\\\n",
       "\t 30.63               & 12/10/2018 00:00:00\\\\\n",
       "\t 32.81               & 7/11/2018 00:00:00 \\\\\n",
       "\t 27.99               & 12/1/2018 00:00:00 \\\\\n",
       "\t 32.08               & 13/5/2018 00:00:00 \\\\\n",
       "\t 31.54               & 14/8/2018 00:00:00 \\\\\n",
       "\t 29.08               & 13/9/2018 00:00:00 \\\\\n",
       "\t 26.85               & 10/12/2018 00:00:00\\\\\n",
       "\t 32.65               & 1/7/2018 00:00:00  \\\\\n",
       "\t 26.50               & 12/10/2018 00:00:00\\\\\n",
       "\t 28.67               & 7/11/2018 00:00:00 \\\\\n",
       "\t 28.52               & 12/1/2018 00:00:00 \\\\\n",
       "\t 26.71               & 13/5/2018 00:00:00 \\\\\n",
       "\t 36.13               & 14/8/2018 00:00:00 \\\\\n",
       "\t 35.12               & 13/9/2018 00:00:00 \\\\\n",
       "\t 28.16               & 10/12/2018 00:00:00\\\\\n",
       "\t 28.69               & 1/7/2018 00:00:00  \\\\\n",
       "\t 32.47               & 12/10/2018 00:00:00\\\\\n",
       "\t 30.70               & 7/11/2018 00:00:00 \\\\\n",
       "\t 31.56               & 12/1/2018 00:00:00 \\\\\n",
       "\t 28.22               & 13/5/2018 00:00:00 \\\\\n",
       "\t 28.08               & 14/8/2018 00:00:00 \\\\\n",
       "\t 29.98               & 13/9/2018 00:00:00 \\\\\n",
       "\t 29.58               & 10/12/2018 00:00:00\\\\\n",
       "\t 30.37               & 1/7/2018 00:00:00  \\\\\n",
       "\t 31.60               & 12/10/2018 00:00:00\\\\\n",
       "\t ... & ...\\\\\n",
       "\t 33.62               & 7/11/2018 00:00:00 \\\\\n",
       "\t 31.19               & 12/1/2018 00:00:00 \\\\\n",
       "\t 30.03               & 13/5/2018 00:00:00 \\\\\n",
       "\t 30.00               & 14/8/2018 00:00:00 \\\\\n",
       "\t 28.37               & 13/9/2018 00:00:00 \\\\\n",
       "\t 31.45               & 10/12/2018 00:00:00\\\\\n",
       "\t 33.31               & 1/7/2018 00:00:00  \\\\\n",
       "\t 32.30               & 12/10/2018 00:00:00\\\\\n",
       "\t 28.69               & 7/11/2018 00:00:00 \\\\\n",
       "\t 30.48               & 12/1/2018 00:00:00 \\\\\n",
       "\t 31.96               & 13/5/2018 00:00:00 \\\\\n",
       "\t 30.13               & 14/8/2018 00:00:00 \\\\\n",
       "\t 34.17               & 13/9/2018 00:00:00 \\\\\n",
       "\t 34.04               & 10/12/2018 00:00:00\\\\\n",
       "\t 34.03               & 1/7/2018 00:00:00  \\\\\n",
       "\t 29.00               & 12/10/2018 00:00:00\\\\\n",
       "\t 34.68               & 7/11/2018 00:00:00 \\\\\n",
       "\t 31.68               & 12/1/2018 00:00:00 \\\\\n",
       "\t 34.91               & 13/5/2018 00:00:00 \\\\\n",
       "\t 28.70               & 14/8/2018 00:00:00 \\\\\n",
       "\t 26.29               & 13/9/2018 00:00:00 \\\\\n",
       "\t 33.47               & 10/12/2018 00:00:00\\\\\n",
       "\t 30.17               & 1/7/2018 00:00:00  \\\\\n",
       "\t 28.78               & 12/10/2018 00:00:00\\\\\n",
       "\t 29.69               & 7/11/2018 00:00:00 \\\\\n",
       "\t 30.26               & 12/1/2018 00:00:00 \\\\\n",
       "\t 28.86               & 13/5/2018 00:00:00 \\\\\n",
       "\t 27.64               & 14/8/2018 00:00:00 \\\\\n",
       "\t 30.93               & 13/9/2018 00:00:00 \\\\\n",
       "\t 26.14               & 10/12/2018 00:00:00\\\\\n",
       "\\end{tabular}\n"
      ],
      "text/markdown": [
       "\n",
       "Raio..cm. | Data | \n",
       "|---|---|---|---|---|---|---|---|---|---|---|---|---|---|---|---|---|---|---|---|---|---|---|---|---|---|---|---|---|---|---|---|---|---|---|---|---|---|---|---|---|---|---|---|---|---|---|---|---|---|---|---|---|---|---|---|---|---|---|---|---|\n",
       "| 28.64               | 13/5/2018 00:00:00  | \n",
       "| 28.99               | 14/8/2018 00:00:00  | \n",
       "| 29.78               | 13/9/2018 00:00:00  | \n",
       "| 30.47               | 10/12/2018 00:00:00 | \n",
       "| 33.78               | 1/7/2018 00:00:00   | \n",
       "| 30.63               | 12/10/2018 00:00:00 | \n",
       "| 32.81               | 7/11/2018 00:00:00  | \n",
       "| 27.99               | 12/1/2018 00:00:00  | \n",
       "| 32.08               | 13/5/2018 00:00:00  | \n",
       "| 31.54               | 14/8/2018 00:00:00  | \n",
       "| 29.08               | 13/9/2018 00:00:00  | \n",
       "| 26.85               | 10/12/2018 00:00:00 | \n",
       "| 32.65               | 1/7/2018 00:00:00   | \n",
       "| 26.50               | 12/10/2018 00:00:00 | \n",
       "| 28.67               | 7/11/2018 00:00:00  | \n",
       "| 28.52               | 12/1/2018 00:00:00  | \n",
       "| 26.71               | 13/5/2018 00:00:00  | \n",
       "| 36.13               | 14/8/2018 00:00:00  | \n",
       "| 35.12               | 13/9/2018 00:00:00  | \n",
       "| 28.16               | 10/12/2018 00:00:00 | \n",
       "| 28.69               | 1/7/2018 00:00:00   | \n",
       "| 32.47               | 12/10/2018 00:00:00 | \n",
       "| 30.70               | 7/11/2018 00:00:00  | \n",
       "| 31.56               | 12/1/2018 00:00:00  | \n",
       "| 28.22               | 13/5/2018 00:00:00  | \n",
       "| 28.08               | 14/8/2018 00:00:00  | \n",
       "| 29.98               | 13/9/2018 00:00:00  | \n",
       "| 29.58               | 10/12/2018 00:00:00 | \n",
       "| 30.37               | 1/7/2018 00:00:00   | \n",
       "| 31.60               | 12/10/2018 00:00:00 | \n",
       "| ... | ... | \n",
       "| 33.62               | 7/11/2018 00:00:00  | \n",
       "| 31.19               | 12/1/2018 00:00:00  | \n",
       "| 30.03               | 13/5/2018 00:00:00  | \n",
       "| 30.00               | 14/8/2018 00:00:00  | \n",
       "| 28.37               | 13/9/2018 00:00:00  | \n",
       "| 31.45               | 10/12/2018 00:00:00 | \n",
       "| 33.31               | 1/7/2018 00:00:00   | \n",
       "| 32.30               | 12/10/2018 00:00:00 | \n",
       "| 28.69               | 7/11/2018 00:00:00  | \n",
       "| 30.48               | 12/1/2018 00:00:00  | \n",
       "| 31.96               | 13/5/2018 00:00:00  | \n",
       "| 30.13               | 14/8/2018 00:00:00  | \n",
       "| 34.17               | 13/9/2018 00:00:00  | \n",
       "| 34.04               | 10/12/2018 00:00:00 | \n",
       "| 34.03               | 1/7/2018 00:00:00   | \n",
       "| 29.00               | 12/10/2018 00:00:00 | \n",
       "| 34.68               | 7/11/2018 00:00:00  | \n",
       "| 31.68               | 12/1/2018 00:00:00  | \n",
       "| 34.91               | 13/5/2018 00:00:00  | \n",
       "| 28.70               | 14/8/2018 00:00:00  | \n",
       "| 26.29               | 13/9/2018 00:00:00  | \n",
       "| 33.47               | 10/12/2018 00:00:00 | \n",
       "| 30.17               | 1/7/2018 00:00:00   | \n",
       "| 28.78               | 12/10/2018 00:00:00 | \n",
       "| 29.69               | 7/11/2018 00:00:00  | \n",
       "| 30.26               | 12/1/2018 00:00:00  | \n",
       "| 28.86               | 13/5/2018 00:00:00  | \n",
       "| 27.64               | 14/8/2018 00:00:00  | \n",
       "| 30.93               | 13/9/2018 00:00:00  | \n",
       "| 26.14               | 10/12/2018 00:00:00 | \n",
       "\n",
       "\n"
      ],
      "text/plain": [
       "    Raio..cm. Data               \n",
       "1   28.64     13/5/2018 00:00:00 \n",
       "2   28.99     14/8/2018 00:00:00 \n",
       "3   29.78     13/9/2018 00:00:00 \n",
       "4   30.47     10/12/2018 00:00:00\n",
       "5   33.78     1/7/2018 00:00:00  \n",
       "6   30.63     12/10/2018 00:00:00\n",
       "7   32.81     7/11/2018 00:00:00 \n",
       "8   27.99     12/1/2018 00:00:00 \n",
       "9   32.08     13/5/2018 00:00:00 \n",
       "10  31.54     14/8/2018 00:00:00 \n",
       "11  29.08     13/9/2018 00:00:00 \n",
       "12  26.85     10/12/2018 00:00:00\n",
       "13  32.65     1/7/2018 00:00:00  \n",
       "14  26.50     12/10/2018 00:00:00\n",
       "15  28.67     7/11/2018 00:00:00 \n",
       "16  28.52     12/1/2018 00:00:00 \n",
       "17  26.71     13/5/2018 00:00:00 \n",
       "18  36.13     14/8/2018 00:00:00 \n",
       "19  35.12     13/9/2018 00:00:00 \n",
       "20  28.16     10/12/2018 00:00:00\n",
       "21  28.69     1/7/2018 00:00:00  \n",
       "22  32.47     12/10/2018 00:00:00\n",
       "23  30.70     7/11/2018 00:00:00 \n",
       "24  31.56     12/1/2018 00:00:00 \n",
       "25  28.22     13/5/2018 00:00:00 \n",
       "26  28.08     14/8/2018 00:00:00 \n",
       "27  29.98     13/9/2018 00:00:00 \n",
       "28  29.58     10/12/2018 00:00:00\n",
       "29  30.37     1/7/2018 00:00:00  \n",
       "30  31.60     12/10/2018 00:00:00\n",
       "... ...       ...                \n",
       "71  33.62     7/11/2018 00:00:00 \n",
       "72  31.19     12/1/2018 00:00:00 \n",
       "73  30.03     13/5/2018 00:00:00 \n",
       "74  30.00     14/8/2018 00:00:00 \n",
       "75  28.37     13/9/2018 00:00:00 \n",
       "76  31.45     10/12/2018 00:00:00\n",
       "77  33.31     1/7/2018 00:00:00  \n",
       "78  32.30     12/10/2018 00:00:00\n",
       "79  28.69     7/11/2018 00:00:00 \n",
       "80  30.48     12/1/2018 00:00:00 \n",
       "81  31.96     13/5/2018 00:00:00 \n",
       "82  30.13     14/8/2018 00:00:00 \n",
       "83  34.17     13/9/2018 00:00:00 \n",
       "84  34.04     10/12/2018 00:00:00\n",
       "85  34.03     1/7/2018 00:00:00  \n",
       "86  29.00     12/10/2018 00:00:00\n",
       "87  34.68     7/11/2018 00:00:00 \n",
       "88  31.68     12/1/2018 00:00:00 \n",
       "89  34.91     13/5/2018 00:00:00 \n",
       "90  28.70     14/8/2018 00:00:00 \n",
       "91  26.29     13/9/2018 00:00:00 \n",
       "92  33.47     10/12/2018 00:00:00\n",
       "93  30.17     1/7/2018 00:00:00  \n",
       "94  28.78     12/10/2018 00:00:00\n",
       "95  29.69     7/11/2018 00:00:00 \n",
       "96  30.26     12/1/2018 00:00:00 \n",
       "97  28.86     13/5/2018 00:00:00 \n",
       "98  27.64     14/8/2018 00:00:00 \n",
       "99  30.93     13/9/2018 00:00:00 \n",
       "100 26.14     10/12/2018 00:00:00"
      ]
     },
     "metadata": {},
     "output_type": "display_data"
    }
   ],
   "source": [
    "my_data[, c(1, 3)]"
   ]
  },
  {
   "cell_type": "code",
   "execution_count": 19,
   "metadata": {},
   "outputs": [],
   "source": [
    "my_data<-my_data[, c(1)]"
   ]
  },
  {
   "cell_type": "code",
   "execution_count": 20,
   "metadata": {
    "collapsed": true
   },
   "outputs": [
    {
     "name": "stdout",
     "output_type": "stream",
     "text": [
      "  [1] 28.64 28.99 29.78 30.47 33.78 30.63 32.81 27.99 32.08 31.54 29.08 26.85\n",
      " [13] 32.65 26.50 28.67 28.52 26.71 36.13 35.12 28.16 28.69 32.47 30.70 31.56\n",
      " [25] 28.22 28.08 29.98 29.58 30.37 31.60 27.72 28.03 31.95 27.92 30.95 29.59\n",
      " [37] 30.22 28.78 30.51 28.88 30.08 27.17 31.24 28.96 28.30 27.91 29.68 34.53\n",
      " [49] 29.72 26.57 28.32 27.04 30.50 27.74 30.44 28.09 30.24 26.42 30.76 30.93\n",
      " [61] 27.63 26.24 30.92 26.65 33.89 30.15 28.01 32.03 27.32 32.66 33.62 31.19\n",
      " [73] 30.03 30.00 28.37 31.45 33.31 32.30 28.69 30.48 31.96 30.13 34.17 34.04\n",
      " [85] 34.03 29.00 34.68 31.68 34.91 28.70 26.29 33.47 30.17 28.78 29.69 30.26\n",
      " [97] 28.86 27.64 30.93 26.14\n"
     ]
    }
   ],
   "source": [
    "print(my_data)"
   ]
  },
  {
   "cell_type": "code",
   "execution_count": 21,
   "metadata": {},
   "outputs": [
    {
     "data": {
      "text/plain": [
       "   Min. 1st Qu.  Median    Mean 3rd Qu.    Max. \n",
       "  26.14   28.28   30.02   30.06   31.55   36.13 "
      ]
     },
     "metadata": {},
     "output_type": "display_data"
    }
   ],
   "source": [
    "#Importante! summary sem \"S\" Maiúsculo!!\n",
    "summary(my_data)"
   ]
  },
  {
   "cell_type": "code",
   "execution_count": 23,
   "metadata": {},
   "outputs": [
    {
     "data": {
      "text/html": [
       "26.14"
      ],
      "text/latex": [
       "26.14"
      ],
      "text/markdown": [
       "26.14"
      ],
      "text/plain": [
       "[1] 26.14"
      ]
     },
     "metadata": {},
     "output_type": "display_data"
    }
   ],
   "source": [
    "min(my_data)"
   ]
  },
  {
   "cell_type": "code",
   "execution_count": 24,
   "metadata": {},
   "outputs": [
    {
     "data": {
      "text/html": [
       "36.13"
      ],
      "text/latex": [
       "36.13"
      ],
      "text/markdown": [
       "36.13"
      ],
      "text/plain": [
       "[1] 36.13"
      ]
     },
     "metadata": {},
     "output_type": "display_data"
    }
   ],
   "source": [
    "max(my_data)"
   ]
  },
  {
   "cell_type": "code",
   "execution_count": 25,
   "metadata": {},
   "outputs": [
    {
     "data": {
      "text/html": [
       "<ol class=list-inline>\n",
       "\t<li>26.14</li>\n",
       "\t<li>36.13</li>\n",
       "</ol>\n"
      ],
      "text/latex": [
       "\\begin{enumerate*}\n",
       "\\item 26.14\n",
       "\\item 36.13\n",
       "\\end{enumerate*}\n"
      ],
      "text/markdown": [
       "1. 26.14\n",
       "2. 36.13\n",
       "\n",
       "\n"
      ],
      "text/plain": [
       "[1] 26.14 36.13"
      ]
     },
     "metadata": {},
     "output_type": "display_data"
    }
   ],
   "source": [
    "range(my_data)"
   ]
  },
  {
   "cell_type": "code",
   "execution_count": 26,
   "metadata": {},
   "outputs": [
    {
     "data": {
      "text/html": [
       "30.0601"
      ],
      "text/latex": [
       "30.0601"
      ],
      "text/markdown": [
       "30.0601"
      ],
      "text/plain": [
       "[1] 30.0601"
      ]
     },
     "metadata": {},
     "output_type": "display_data"
    }
   ],
   "source": [
    "mean(my_data)"
   ]
  },
  {
   "cell_type": "code",
   "execution_count": 27,
   "metadata": {},
   "outputs": [
    {
     "data": {
      "text/html": [
       "30.015"
      ],
      "text/latex": [
       "30.015"
      ],
      "text/markdown": [
       "30.015"
      ],
      "text/plain": [
       "[1] 30.015"
      ]
     },
     "metadata": {},
     "output_type": "display_data"
    }
   ],
   "source": [
    "median(my_data)"
   ]
  },
  {
   "cell_type": "code",
   "execution_count": 28,
   "metadata": {},
   "outputs": [
    {
     "data": {
      "text/html": [
       "2.33030127457868"
      ],
      "text/latex": [
       "2.33030127457868"
      ],
      "text/markdown": [
       "2.33030127457868"
      ],
      "text/plain": [
       "[1] 2.330301"
      ]
     },
     "metadata": {},
     "output_type": "display_data"
    }
   ],
   "source": [
    "sd(my_data)"
   ]
  },
  {
   "cell_type": "code",
   "execution_count": 29,
   "metadata": {},
   "outputs": [
    {
     "data": {
      "text/html": [
       "2.453703"
      ],
      "text/latex": [
       "2.453703"
      ],
      "text/markdown": [
       "2.453703"
      ],
      "text/plain": [
       "[1] 2.453703"
      ]
     },
     "metadata": {},
     "output_type": "display_data"
    }
   ],
   "source": [
    "mad(my_data)"
   ]
  },
  {
   "cell_type": "code",
   "execution_count": 30,
   "metadata": {},
   "outputs": [
    {
     "data": {
      "text/html": [
       "3.265"
      ],
      "text/latex": [
       "3.265"
      ],
      "text/markdown": [
       "3.265"
      ],
      "text/plain": [
       "[1] 3.265"
      ]
     },
     "metadata": {},
     "output_type": "display_data"
    }
   ],
   "source": [
    "IQR(my_data)"
   ]
  },
  {
   "cell_type": "raw",
   "metadata": {},
   "source": [
    "quantile(my_data)"
   ]
  },
  {
   "cell_type": "code",
   "execution_count": 32,
   "metadata": {},
   "outputs": [
    {
     "data": {
      "text/html": [
       "<dl class=dl-horizontal>\n",
       "\t<dt>25%</dt>\n",
       "\t\t<dd>28.28</dd>\n",
       "\t<dt>75%</dt>\n",
       "\t\t<dd>31.545</dd>\n",
       "</dl>\n"
      ],
      "text/latex": [
       "\\begin{description*}\n",
       "\\item[25\\textbackslash{}\\%] 28.28\n",
       "\\item[75\\textbackslash{}\\%] 31.545\n",
       "\\end{description*}\n"
      ],
      "text/markdown": [
       "25%\n",
       ":   28.2875%\n",
       ":   31.545\n",
       "\n"
      ],
      "text/plain": [
       "   25%    75% \n",
       "28.280 31.545 "
      ]
     },
     "metadata": {},
     "output_type": "display_data"
    }
   ],
   "source": [
    "quantile(my_data, c(1, 3)/4)"
   ]
  },
  {
   "cell_type": "markdown",
   "metadata": {},
   "source": [
    "# Perceba que calculando estatísticas básicas temos uma primeira foto dos nossos dados. vamos gerar um data frame onde teremos 2 colunas, na coluna A 10 linhas distribuídas segundo uma normal (0;1); na segunda coluna 10 linhas distribuídas segundo uma poisson com lambda = 10\n"
   ]
  },
  {
   "cell_type": "markdown",
   "metadata": {},
   "source": [
    "Lembrando a distribuição de Poisson :$$P(x) = \\frac{{e^{ - \\lambda } \\lambda ^x }}{{x!}} \\ Com \\ média \\ {\\lambda} \\ e \\ desvio-padrão \\ \\sqrt{\\lambda}$$\n",
    "Lembrando a distribuição Normal: \n",
    "$$P(x)=\\frac{1}{{\\sigma \\sqrt {2\\pi }}}e^{{{ -{(x - \\mu) }^2 }/{2\\sigma ^2 }}} \\ Com \\ média \\ {\\mu} \\ e \\ desvio-padrão \\ \\sigma$$"
   ]
  },
  {
   "cell_type": "code",
   "execution_count": 37,
   "metadata": {},
   "outputs": [],
   "source": [
    "#Data frame summaries:\n",
    "  A <- data.frame(a=rnorm(10), b=rpois(10, lambda=10))"
   ]
  },
  {
   "cell_type": "code",
   "execution_count": null,
   "metadata": {},
   "outputs": [],
   "source": []
  }
 ],
 "metadata": {
  "kernelspec": {
   "display_name": "R",
   "language": "R",
   "name": "ir"
  },
  "language_info": {
   "codemirror_mode": "r",
   "file_extension": ".r",
   "mimetype": "text/x-r-source",
   "name": "R",
   "pygments_lexer": "r",
   "version": "3.4.3"
  }
 },
 "nbformat": 4,
 "nbformat_minor": 2
}
